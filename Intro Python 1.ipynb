{
  "cells": [
    {
      "cell_type": "markdown",
      "metadata": {
        "id": "view-in-github",
        "colab_type": "text"
      },
      "source": [
        "<a href=\"https://colab.research.google.com/github/navgaur/Mathematical-Physics-I/blob/main/Intro%20Python%201.ipynb\" target=\"_parent\"><img src=\"https://colab.research.google.com/assets/colab-badge.svg\" alt=\"Open In Colab\"/></a>"
      ]
    },
    {
      "cell_type": "markdown",
      "id": "a1a7f80b-fd4b-4e96-93cb-3674f44a0760",
      "metadata": {
        "id": "a1a7f80b-fd4b-4e96-93cb-3674f44a0760"
      },
      "source": [
        "# **Basic concepts in Python**\n",
        "\n",
        "Why Python :\n",
        "- Excellent data structure\n",
        "- Simple and clean syntax\n",
        "- Possiblity of Object oriented programs\n",
        "- Open source\n",
        "- Interpreter language"
      ]
    },
    {
      "cell_type": "markdown",
      "id": "44d18fb8-ed8b-4412-8c3f-3b9b1c801611",
      "metadata": {
        "jp-MarkdownHeadingCollapsed": true,
        "tags": [],
        "id": "44d18fb8-ed8b-4412-8c3f-3b9b1c801611"
      },
      "source": [
        "## Variables, Operators\n",
        "\n",
        "Variables\n",
        "- Integer\n",
        "- Float\n",
        "- Complex\n",
        "\n",
        "Mathematical Operators\n",
        "- Addition (+)\n",
        "- Substraction (-)\n",
        "- Multiplication (*)\n",
        "- Division (/)\n",
        "- Modulo (%)\n",
        "- Power (**)\n",
        "- Floor Division (//)\n",
        "\n",
        "Comparison Operators:\n",
        "- Equal to (==)\n",
        "- Not Equal to (!=)\n",
        "- Less than and Greater than (<>)\n",
        "- Less than equal to (<=)\n",
        "- Greater than equal to (>=)\n",
        "\n",
        "Membership Operators:\n",
        "- in\n",
        "- not\n",
        "- as"
      ]
    },
    {
      "cell_type": "code",
      "execution_count": null,
      "id": "b85b10a1-f49e-4770-9fa0-04d599569a37",
      "metadata": {
        "id": "b85b10a1-f49e-4770-9fa0-04d599569a37",
        "outputId": "dbed5505-adc3-4a5e-c06a-0e8a849a74d3"
      },
      "outputs": [
        {
          "name": "stdout",
          "output_type": "stream",
          "text": [
            "Hello Welcome\n"
          ]
        }
      ],
      "source": [
        "print(\"Hello Welcome\")"
      ]
    },
    {
      "cell_type": "code",
      "execution_count": null,
      "id": "7245d20c-ba2d-4f30-b09f-9345163e634c",
      "metadata": {
        "id": "7245d20c-ba2d-4f30-b09f-9345163e634c",
        "outputId": "9ad366b9-31ae-4de4-ac0c-785981f8cc74"
      },
      "outputs": [
        {
          "data": {
            "text/plain": [
              "'Hello'"
            ]
          },
          "execution_count": 2,
          "metadata": {},
          "output_type": "execute_result"
        }
      ],
      "source": [
        "'Hello'"
      ]
    },
    {
      "cell_type": "code",
      "execution_count": null,
      "id": "8f8e1210-6c24-412a-9d8b-a573640a23b8",
      "metadata": {
        "id": "8f8e1210-6c24-412a-9d8b-a573640a23b8",
        "outputId": "789ef0c3-8178-498e-c86a-24da4899479d"
      },
      "outputs": [
        {
          "data": {
            "text/plain": [
              "\"Hello it's working\""
            ]
          },
          "execution_count": 5,
          "metadata": {},
          "output_type": "execute_result"
        }
      ],
      "source": [
        "\"\"\"Hello it\\'s working\"\"\""
      ]
    },
    {
      "cell_type": "code",
      "execution_count": null,
      "id": "d5e06e42-72d9-4355-871b-7e23de4760d9",
      "metadata": {
        "id": "d5e06e42-72d9-4355-871b-7e23de4760d9",
        "outputId": "768c4a5e-0fdc-429b-c2b6-311f2c502dfd"
      },
      "outputs": [
        {
          "name": "stdout",
          "output_type": "stream",
          "text": [
            "I want to learn Python.\n",
            "Is this going to work\n",
            "on multiple lines.\n"
          ]
        }
      ],
      "source": [
        "print(\"\"\"I want to learn Python.\n",
        "Is this going to work\n",
        "on multiple lines.\"\"\")"
      ]
    },
    {
      "cell_type": "code",
      "execution_count": null,
      "id": "9d0c2180-84d7-4f4f-ab75-24e587720ffa",
      "metadata": {
        "id": "9d0c2180-84d7-4f4f-ab75-24e587720ffa",
        "outputId": "6c954b4e-ff52-47ee-9da2-ae13df6acc4c"
      },
      "outputs": [
        {
          "data": {
            "text/plain": [
              "'I want to learn Python.\\nIs this going to work\\non multiple lines.'"
            ]
          },
          "execution_count": 11,
          "metadata": {},
          "output_type": "execute_result"
        }
      ],
      "source": [
        "\"\"\"I want to learn Python.\n",
        "Is this going to work\n",
        "on multiple lines.\"\"\""
      ]
    },
    {
      "cell_type": "code",
      "execution_count": null,
      "id": "6441eb27-c66b-4984-a040-db14e7dde22f",
      "metadata": {
        "id": "6441eb27-c66b-4984-a040-db14e7dde22f",
        "outputId": "d13ef5a3-b32b-4845-bb76-fc2b411107a6"
      },
      "outputs": [
        {
          "name": "stdout",
          "output_type": "stream",
          "text": [
            "\t I am starting with Python. \n",
            " This should be next line\n"
          ]
        }
      ],
      "source": [
        "print(\"\"\"\\t I am starting with Python. \\n This should be next line\"\"\")"
      ]
    },
    {
      "cell_type": "markdown",
      "id": "69423f3d-1d01-4d61-8372-3c33d2b5c81f",
      "metadata": {
        "jp-MarkdownHeadingCollapsed": true,
        "tags": [],
        "id": "69423f3d-1d01-4d61-8372-3c33d2b5c81f"
      },
      "source": [
        "## Namespace (variables)"
      ]
    },
    {
      "cell_type": "code",
      "execution_count": null,
      "id": "ba06d279-a3ad-4869-a02a-a4ab95ed41df",
      "metadata": {
        "id": "ba06d279-a3ad-4869-a02a-a4ab95ed41df"
      },
      "outputs": [],
      "source": [
        "x = 2\n",
        "y = 4"
      ]
    },
    {
      "cell_type": "code",
      "execution_count": null,
      "id": "fb32e43e-b7b6-4dba-83c6-8b3697d28237",
      "metadata": {
        "id": "fb32e43e-b7b6-4dba-83c6-8b3697d28237",
        "outputId": "33a2eb2a-4421-439b-f4a3-4034c8447570"
      },
      "outputs": [
        {
          "name": "stdout",
          "output_type": "stream",
          "text": [
            "Name\n"
          ]
        }
      ],
      "source": [
        "y=\"Name\"\n",
        "print(y)"
      ]
    },
    {
      "cell_type": "code",
      "execution_count": null,
      "id": "b72ce6c1-fe6b-4b30-816b-2641435529c3",
      "metadata": {
        "id": "b72ce6c1-fe6b-4b30-816b-2641435529c3",
        "outputId": "9e11bef1-53dd-4df3-f4c2-764e5fd98f54"
      },
      "outputs": [
        {
          "name": "stdout",
          "output_type": "stream",
          "text": [
            "My Name is\n"
          ]
        }
      ],
      "source": [
        "xx,yy,zz = \"My\", \"Name\", \"is\"\n",
        "print(xx,yy,zz)"
      ]
    },
    {
      "cell_type": "code",
      "execution_count": null,
      "id": "64db45b7-f7d2-43af-9806-fb5cd6915c47",
      "metadata": {
        "id": "64db45b7-f7d2-43af-9806-fb5cd6915c47",
        "outputId": "214164a9-47e0-4340-b0ee-b38d1f5bb21a"
      },
      "outputs": [
        {
          "name": "stdout",
          "output_type": "stream",
          "text": [
            "apple banana grapes\n"
          ]
        }
      ],
      "source": [
        "fruits = [\"apple\",\"banana\",\"grapes\"]\n",
        "x,y,z=fruits\n",
        "print(x,y,z)"
      ]
    },
    {
      "cell_type": "markdown",
      "id": "7db0ffb3-11d3-4a87-ba8e-78f4ac22fe62",
      "metadata": {
        "jp-MarkdownHeadingCollapsed": true,
        "tags": [],
        "id": "7db0ffb3-11d3-4a87-ba8e-78f4ac22fe62"
      },
      "source": [
        "## Python as calculator"
      ]
    },
    {
      "cell_type": "code",
      "execution_count": null,
      "id": "fc495979-c92b-45cb-a65b-ddf1fc3c4236",
      "metadata": {
        "id": "fc495979-c92b-45cb-a65b-ddf1fc3c4236",
        "outputId": "7e74af2e-9a1d-4a2f-e3f9-a4525d273a0a"
      },
      "outputs": [
        {
          "data": {
            "text/plain": [
              "3.2"
            ]
          },
          "execution_count": 15,
          "metadata": {},
          "output_type": "execute_result"
        }
      ],
      "source": [
        "2+1.2"
      ]
    },
    {
      "cell_type": "code",
      "execution_count": null,
      "id": "2e4135cb-8140-41c6-a307-9cf9fe5afb34",
      "metadata": {
        "id": "2e4135cb-8140-41c6-a307-9cf9fe5afb34",
        "outputId": "2bcf3765-7625-4896-caf4-2673a5424773"
      },
      "outputs": [
        {
          "data": {
            "text/plain": [
              "3.0"
            ]
          },
          "execution_count": 16,
          "metadata": {},
          "output_type": "execute_result"
        }
      ],
      "source": [
        "18.2//5"
      ]
    },
    {
      "cell_type": "code",
      "execution_count": null,
      "id": "696dc714-159d-43a6-8ceb-e7fdb0fdebbf",
      "metadata": {
        "id": "696dc714-159d-43a6-8ceb-e7fdb0fdebbf",
        "outputId": "77c8ffd5-c73e-4ce1-b071-4c0d1e91283b"
      },
      "outputs": [
        {
          "data": {
            "text/plain": [
              "3.1999999999999993"
            ]
          },
          "execution_count": 17,
          "metadata": {},
          "output_type": "execute_result"
        }
      ],
      "source": [
        "18.2%5"
      ]
    },
    {
      "cell_type": "markdown",
      "id": "466b958e-7efc-457c-aca4-77d0ae636f92",
      "metadata": {
        "jp-MarkdownHeadingCollapsed": true,
        "tags": [],
        "id": "466b958e-7efc-457c-aca4-77d0ae636f92"
      },
      "source": [
        "## Complex Numbers"
      ]
    },
    {
      "cell_type": "code",
      "execution_count": null,
      "id": "8c166a5b-778b-455d-8418-95b111bd90a0",
      "metadata": {
        "id": "8c166a5b-778b-455d-8418-95b111bd90a0"
      },
      "outputs": [],
      "source": [
        "z1 = 1 + 2j"
      ]
    },
    {
      "cell_type": "code",
      "execution_count": null,
      "id": "55ac9cd9-831b-4898-a541-1a510260839a",
      "metadata": {
        "id": "55ac9cd9-831b-4898-a541-1a510260839a"
      },
      "outputs": [],
      "source": [
        "z2 = 2 + 3j"
      ]
    },
    {
      "cell_type": "code",
      "execution_count": null,
      "id": "2091d2b0-b506-4df9-a022-36f9ad7e0470",
      "metadata": {
        "id": "2091d2b0-b506-4df9-a022-36f9ad7e0470",
        "outputId": "9f43a17e-b01f-4833-fa53-cbd7f56a3c84"
      },
      "outputs": [
        {
          "data": {
            "text/plain": [
              "(2+4j)"
            ]
          },
          "execution_count": 21,
          "metadata": {},
          "output_type": "execute_result"
        }
      ],
      "source": [
        "z1 + z1"
      ]
    },
    {
      "cell_type": "markdown",
      "id": "d3b31bc9-4848-4a5e-b36e-df3ac610b8ea",
      "metadata": {
        "jp-MarkdownHeadingCollapsed": true,
        "tags": [],
        "id": "d3b31bc9-4848-4a5e-b36e-df3ac610b8ea"
      },
      "source": [
        "## Boolean Numbers"
      ]
    },
    {
      "cell_type": "code",
      "execution_count": null,
      "id": "662562aa-6c69-4f23-ad21-69ae43d5759b",
      "metadata": {
        "id": "662562aa-6c69-4f23-ad21-69ae43d5759b",
        "outputId": "6668116a-6d2f-4c21-d831-0929ffa3aa71"
      },
      "outputs": [
        {
          "data": {
            "text/plain": [
              "2"
            ]
          },
          "execution_count": 22,
          "metadata": {},
          "output_type": "execute_result"
        }
      ],
      "source": [
        "True + True"
      ]
    },
    {
      "cell_type": "code",
      "execution_count": null,
      "id": "49d4ca46-afc5-4bf9-9662-c202e4af532e",
      "metadata": {
        "id": "49d4ca46-afc5-4bf9-9662-c202e4af532e",
        "outputId": "daf7fe20-5fbb-4ef6-a435-1f59d763f7c0"
      },
      "outputs": [
        {
          "data": {
            "text/plain": [
              "1"
            ]
          },
          "execution_count": 23,
          "metadata": {},
          "output_type": "execute_result"
        }
      ],
      "source": [
        "True + False"
      ]
    },
    {
      "cell_type": "code",
      "execution_count": null,
      "id": "b9169fa5-a822-4438-90da-b2abb976fc04",
      "metadata": {
        "id": "b9169fa5-a822-4438-90da-b2abb976fc04",
        "outputId": "79dc8f93-51dc-4de9-c256-2056d9798a17"
      },
      "outputs": [
        {
          "data": {
            "text/plain": [
              "0"
            ]
          },
          "execution_count": 24,
          "metadata": {},
          "output_type": "execute_result"
        }
      ],
      "source": [
        "True * False"
      ]
    },
    {
      "cell_type": "markdown",
      "id": "39abf052-13fe-4428-b951-d0223c9c1534",
      "metadata": {
        "jp-MarkdownHeadingCollapsed": true,
        "tags": [],
        "id": "39abf052-13fe-4428-b951-d0223c9c1534"
      },
      "source": [
        "### Comparison"
      ]
    },
    {
      "cell_type": "code",
      "execution_count": null,
      "id": "d02b438c-8801-46ec-b881-6c876cb7f108",
      "metadata": {
        "id": "d02b438c-8801-46ec-b881-6c876cb7f108",
        "outputId": "c39a0b7c-a358-48f2-ee45-aa9e4d01c128"
      },
      "outputs": [
        {
          "data": {
            "text/plain": [
              "False"
            ]
          },
          "execution_count": 25,
          "metadata": {},
          "output_type": "execute_result"
        }
      ],
      "source": [
        "2 > 3"
      ]
    },
    {
      "cell_type": "code",
      "execution_count": null,
      "id": "bc6088e2-0726-4b90-99ba-6b5069765413",
      "metadata": {
        "id": "bc6088e2-0726-4b90-99ba-6b5069765413",
        "outputId": "9d9b5d4a-22e1-40c2-debf-226000805c52"
      },
      "outputs": [
        {
          "data": {
            "text/plain": [
              "False"
            ]
          },
          "execution_count": 26,
          "metadata": {},
          "output_type": "execute_result"
        }
      ],
      "source": [
        "6 == 8"
      ]
    },
    {
      "cell_type": "code",
      "execution_count": null,
      "id": "71184ef6-2393-4901-b759-22957d3ba43d",
      "metadata": {
        "id": "71184ef6-2393-4901-b759-22957d3ba43d",
        "outputId": "1a43d9f1-41e5-429d-d1fe-c005df4f9511"
      },
      "outputs": [
        {
          "data": {
            "text/plain": [
              "True"
            ]
          },
          "execution_count": 27,
          "metadata": {},
          "output_type": "execute_result"
        }
      ],
      "source": [
        "10%3 == 1"
      ]
    },
    {
      "cell_type": "markdown",
      "id": "3681a45c-547c-4c44-8baa-b1dfbd573a4b",
      "metadata": {
        "jp-MarkdownHeadingCollapsed": true,
        "tags": [],
        "id": "3681a45c-547c-4c44-8baa-b1dfbd573a4b"
      },
      "source": [
        "## Types and Identiry of objects"
      ]
    },
    {
      "cell_type": "code",
      "execution_count": null,
      "id": "752d09f9-49a3-4f59-8d03-bb3aaf1c16e5",
      "metadata": {
        "id": "752d09f9-49a3-4f59-8d03-bb3aaf1c16e5",
        "outputId": "7d5b28ed-f142-488e-a86f-1abdd5028359"
      },
      "outputs": [
        {
          "data": {
            "text/plain": [
              "int"
            ]
          },
          "execution_count": 28,
          "metadata": {},
          "output_type": "execute_result"
        }
      ],
      "source": [
        "type(5)"
      ]
    },
    {
      "cell_type": "code",
      "execution_count": null,
      "id": "111d9740-58cf-498d-aa74-2aa26f7c352c",
      "metadata": {
        "id": "111d9740-58cf-498d-aa74-2aa26f7c352c",
        "outputId": "165de8d9-842f-4c59-9294-6024b119edca"
      },
      "outputs": [
        {
          "data": {
            "text/plain": [
              "float"
            ]
          },
          "execution_count": 29,
          "metadata": {},
          "output_type": "execute_result"
        }
      ],
      "source": [
        "type(1.2)"
      ]
    },
    {
      "cell_type": "code",
      "execution_count": null,
      "id": "9db5da9f-5b19-4daa-a2f8-93664396a51b",
      "metadata": {
        "id": "9db5da9f-5b19-4daa-a2f8-93664396a51b",
        "outputId": "5a56fa68-3763-4fe2-c5e6-fb1163c47d13"
      },
      "outputs": [
        {
          "data": {
            "text/plain": [
              "complex"
            ]
          },
          "execution_count": 30,
          "metadata": {},
          "output_type": "execute_result"
        }
      ],
      "source": [
        "type(1+2j)"
      ]
    },
    {
      "cell_type": "code",
      "execution_count": null,
      "id": "b2d52e0f-4e82-434b-9974-31645114ecab",
      "metadata": {
        "id": "b2d52e0f-4e82-434b-9974-31645114ecab",
        "outputId": "7ccbd97f-6c78-4943-85c4-97d2d4a83100"
      },
      "outputs": [
        {
          "data": {
            "text/plain": [
              "str"
            ]
          },
          "execution_count": 33,
          "metadata": {},
          "output_type": "execute_result"
        }
      ],
      "source": [
        "type (\"Something\")"
      ]
    },
    {
      "cell_type": "code",
      "execution_count": null,
      "id": "c0538d1b-374d-499e-bca7-a6a97e8bf818",
      "metadata": {
        "id": "c0538d1b-374d-499e-bca7-a6a97e8bf818",
        "outputId": "b3a30394-82f0-4404-bf8a-228d1645c849"
      },
      "outputs": [
        {
          "data": {
            "text/plain": [
              "bool"
            ]
          },
          "execution_count": 34,
          "metadata": {},
          "output_type": "execute_result"
        }
      ],
      "source": [
        "type(True)"
      ]
    },
    {
      "cell_type": "markdown",
      "id": "858b4826-87a4-46d1-bc81-cfe2fa42e3d8",
      "metadata": {
        "jp-MarkdownHeadingCollapsed": true,
        "tags": [],
        "id": "858b4826-87a4-46d1-bc81-cfe2fa42e3d8"
      },
      "source": [
        "## Indentation"
      ]
    },
    {
      "cell_type": "code",
      "execution_count": null,
      "id": "39201005-0ef3-4357-8662-048439297a64",
      "metadata": {
        "id": "39201005-0ef3-4357-8662-048439297a64",
        "outputId": "c1480b67-746c-4def-9e50-ff1f4c0823f9"
      },
      "outputs": [
        {
          "name": "stdout",
          "output_type": "stream",
          "text": [
            "5 is greater than 2\n"
          ]
        }
      ],
      "source": [
        "if 5>2:\n",
        "    print(\"5 is greater than 2\")"
      ]
    },
    {
      "cell_type": "markdown",
      "id": "d1a14f16-aec1-4c56-ac3d-e301b072ca47",
      "metadata": {
        "tags": [],
        "id": "d1a14f16-aec1-4c56-ac3d-e301b072ca47"
      },
      "source": [
        "## Casting"
      ]
    },
    {
      "cell_type": "code",
      "execution_count": null,
      "id": "1bf6c2d9-d657-4cf6-87a8-e2d3d9ff9758",
      "metadata": {
        "id": "1bf6c2d9-d657-4cf6-87a8-e2d3d9ff9758",
        "outputId": "db2692a1-e2e3-4b0a-9a2a-d3c1e36dd8ae"
      },
      "outputs": [
        {
          "name": "stdout",
          "output_type": "stream",
          "text": [
            "3 3 3.0\n",
            "<class 'str'> <class 'int'> <class 'float'>\n"
          ]
        }
      ],
      "source": [
        "x = str(3)\n",
        "y = int(3)\n",
        "z = float(3)\n",
        "print(x,y,z)\n",
        "print(type(x),type(y),type(z))"
      ]
    },
    {
      "cell_type": "markdown",
      "id": "b949327e-ef2d-4c8f-a491-8c36de405219",
      "metadata": {
        "jp-MarkdownHeadingCollapsed": true,
        "tags": [],
        "id": "b949327e-ef2d-4c8f-a491-8c36de405219"
      },
      "source": [
        "---\n",
        "## Lists\n",
        "\n",
        "- Used to store multiple variables in a single variable\n",
        "- Can be modified, added etc.\n",
        "- defined by square brackets"
      ]
    },
    {
      "cell_type": "code",
      "execution_count": null,
      "id": "f82e1dd8-0e81-4b6c-9cac-443e9104cd13",
      "metadata": {
        "id": "f82e1dd8-0e81-4b6c-9cac-443e9104cd13",
        "outputId": "6150da8c-6736-4cfb-d871-46d841e8c8f1",
        "colab": {
          "base_uri": "https://localhost:8080/"
        }
      },
      "outputs": [
        {
          "output_type": "stream",
          "name": "stdout",
          "text": [
            "['banana', 'apple', 'orange']\n",
            "3\n",
            "orange orange\n",
            "['banana', 'apple', 'orange', 'grapes', 'melon', 'papaya']\n",
            "['orange', 'grapes', 'melon']\n"
          ]
        }
      ],
      "source": [
        "fruits1 = [\"banana\",\"apple\",\"orange\"]\n",
        "fruits2 = [\"grapes\",\"melon\",\"papaya\"]\n",
        "print(fruits1)\n",
        "print(len(fruits1))\n",
        "print(fruits1[2],fruits1[-1])\n",
        "fruits_sum=fruits1+fruits2\n",
        "print(fruits_sum)\n",
        "print(fruits_sum[2:5])"
      ]
    },
    {
      "cell_type": "code",
      "execution_count": null,
      "id": "fd8a56c2-d232-41a4-a977-2d109ce88c8b",
      "metadata": {
        "id": "fd8a56c2-d232-41a4-a977-2d109ce88c8b",
        "outputId": "8e174d63-3916-4d55-a695-a26b658a6775"
      },
      "outputs": [
        {
          "name": "stdout",
          "output_type": "stream",
          "text": [
            "['banana', 'apple', 'orange', 'cherry']\n",
            "['banana', 'apple', 'cherry']\n",
            "['banana', 'cherry']\n"
          ]
        }
      ],
      "source": [
        "fruits1 = [\"banana\",\"apple\",\"orange\"]\n",
        "fruits1.append(\"cherry\")\n",
        "print(fruits1)\n",
        "fruits1.remove(\"orange\")\n",
        "print(fruits1)\n",
        "fruits1.pop(1)\n",
        "print(fruits1)"
      ]
    },
    {
      "cell_type": "code",
      "source": [
        "#print(fruits1,fruits2)\n",
        "fruits1 = [\"banana\",\"apple\",\"orange\"]\n",
        "fruits1.insert(2,\"kiwi\")\n",
        "print(fruits1)\n",
        "fruits1.remove(\"kiwi\")\n",
        "#fruits1.extend(fruits2)\n",
        "#print(fruits1)\n",
        "tup1=(\"a\",\"b\")\n",
        "fruits1.extend(tup1)\n",
        "print(fruits1)\n",
        "fruits1.pop(2)\n",
        "print(fruits1)\n"
      ],
      "metadata": {
        "id": "IlCCL9nIYzKh",
        "outputId": "febbbef0-f2d9-4a20-ab52-fdb3cd0645c7",
        "colab": {
          "base_uri": "https://localhost:8080/"
        }
      },
      "id": "IlCCL9nIYzKh",
      "execution_count": null,
      "outputs": [
        {
          "output_type": "stream",
          "name": "stdout",
          "text": [
            "['banana', 'apple', 'kiwi', 'orange']\n",
            "['banana', 'apple', 'orange', 'a', 'b']\n",
            "['banana', 'apple', 'a', 'b']\n"
          ]
        }
      ]
    },
    {
      "cell_type": "code",
      "execution_count": null,
      "id": "1031ef43-a23d-43df-8630-da22e1b4c0d3",
      "metadata": {
        "id": "1031ef43-a23d-43df-8630-da22e1b4c0d3",
        "outputId": "1f5110a4-c09a-432e-b3e8-734539535abd"
      },
      "outputs": [
        {
          "name": "stdout",
          "output_type": "stream",
          "text": [
            "banana\n",
            "apple\n",
            "orange\n",
            "grapes\n"
          ]
        }
      ],
      "source": [
        "fruits1 = [\"banana\",\"apple\",\"orange\"]\n",
        "fruits2 = [\"grapes\",\"melon\",\"papaya\"]\n",
        "fruits_sum1=fruits1+fruits2\n",
        "for x in fruits_sum1:\n",
        "    if x == \"melon\":\n",
        "        break\n",
        "    print(x)"
      ]
    },
    {
      "cell_type": "code",
      "execution_count": null,
      "id": "fdbf3e88-3b93-4eba-9b74-5a371aa33af7",
      "metadata": {
        "id": "fdbf3e88-3b93-4eba-9b74-5a371aa33af7",
        "outputId": "f6ef9172-ba39-4284-c55f-8355ae6f3d1d"
      },
      "outputs": [
        {
          "name": "stdout",
          "output_type": "stream",
          "text": [
            "['banana', 'apple', 'orange']\n",
            "['banana', 'apple']\n"
          ]
        }
      ],
      "source": [
        "#fruits1.remove(\"apple\")\n",
        "#print(fruits1)\n",
        "print(fruits1)\n",
        "fruits1.pop(2)\n",
        "print(fruits1)"
      ]
    },
    {
      "cell_type": "code",
      "source": [
        "l1=[43,22,11,7,89,72,89]\n",
        "print(l1)\n",
        "l1.sort()\n",
        "print(l1)\n",
        "l1.sort(reverse=True)\n",
        "print(l1)"
      ],
      "metadata": {
        "id": "cTtMov0hacl-",
        "outputId": "35906d79-6b26-40a9-b7ca-4b8ad62cbf21",
        "colab": {
          "base_uri": "https://localhost:8080/"
        }
      },
      "id": "cTtMov0hacl-",
      "execution_count": null,
      "outputs": [
        {
          "output_type": "stream",
          "name": "stdout",
          "text": [
            "[43, 22, 11, 7, 89, 72, 89]\n",
            "[7, 11, 22, 43, 72, 89, 89]\n",
            "[89, 89, 72, 43, 22, 11, 7]\n"
          ]
        }
      ]
    },
    {
      "cell_type": "markdown",
      "id": "4e35a5a7-9f41-470a-8350-3dbc865c4564",
      "metadata": {
        "id": "4e35a5a7-9f41-470a-8350-3dbc865c4564"
      },
      "source": [
        "### Continue vs Pass\n",
        "\n",
        "**Continue** forces the loop to start at the next iteration\n",
        "\n",
        "**Pass** means \"there is no code to execute here\" and will continue through the remainder of the loop body."
      ]
    },
    {
      "cell_type": "code",
      "execution_count": null,
      "id": "672a5511-b12f-49aa-93ba-7f008eec6779",
      "metadata": {
        "id": "672a5511-b12f-49aa-93ba-7f008eec6779",
        "outputId": "54a33d75-b2c9-402f-8d4d-4d5a71cc92d7"
      },
      "outputs": [
        {
          "name": "stdout",
          "output_type": "stream",
          "text": [
            "banana\n",
            "apple\n",
            "orange\n",
            "grapes\n",
            "papaya\n"
          ]
        }
      ],
      "source": [
        "fruits1 = [\"banana\",\"apple\",\"orange\"]\n",
        "fruits2 = [\"grapes\",\"melon\",\"papaya\"]\n",
        "fruits_sum1=fruits1+fruits2\n",
        "for x in fruits_sum1:\n",
        "    if x == \"melon\":\n",
        "        continue\n",
        "    print(x)"
      ]
    },
    {
      "cell_type": "code",
      "execution_count": null,
      "id": "40209b85-7da2-4f66-8112-0fb48ffd8324",
      "metadata": {
        "id": "40209b85-7da2-4f66-8112-0fb48ffd8324",
        "outputId": "198a2b7d-ac7e-4622-bfa3-3a6f15a5018f"
      },
      "outputs": [
        {
          "name": "stdout",
          "output_type": "stream",
          "text": [
            "banana\n",
            "apple\n",
            "orange\n",
            "grapes\n",
            "melon\n",
            "papaya\n"
          ]
        }
      ],
      "source": [
        "fruits1 = [\"banana\",\"apple\",\"orange\"]\n",
        "fruits2 = [\"grapes\",\"melon\",\"papaya\"]\n",
        "fruits_sum1=fruits1+fruits2\n",
        "for x in fruits_sum1:\n",
        "    if x == \"melon\":\n",
        "        pass\n",
        "    print(x)"
      ]
    },
    {
      "cell_type": "code",
      "execution_count": null,
      "id": "a5e9acec-1786-433f-a83a-f44c018f5041",
      "metadata": {
        "id": "a5e9acec-1786-433f-a83a-f44c018f5041",
        "outputId": "ceb3f56b-71d0-4b33-82bf-12917a40c34e"
      },
      "outputs": [
        {
          "name": "stdout",
          "output_type": "stream",
          "text": [
            "0\n",
            "1\n",
            "2\n",
            "3\n",
            "4\n",
            "5\n"
          ]
        }
      ],
      "source": [
        "fruits1 = [\"banana\",\"apple\",\"orange\"]\n",
        "fruits2 = [\"grapes\",\"melon\",\"papaya\"]\n",
        "fruits_sum1=fruits1+fruits2\n",
        "i = 0\n",
        "while i < len(fruits_sum1):\n",
        "    print(i)\n",
        "    i = i+1"
      ]
    },
    {
      "cell_type": "code",
      "execution_count": null,
      "id": "23082e1d-71ba-4de0-a465-203d677f57df",
      "metadata": {
        "id": "23082e1d-71ba-4de0-a465-203d677f57df",
        "outputId": "d025eb4a-e259-4619-846f-6af94035f988"
      },
      "outputs": [
        {
          "name": "stdout",
          "output_type": "stream",
          "text": [
            "['apple', 'banana', 'grapes', 'melon', 'orange', 'papaya']\n"
          ]
        }
      ],
      "source": [
        "fruits1 = [\"banana\",\"apple\",\"orange\"]\n",
        "fruits2 = [\"grapes\",\"melon\",\"papaya\"]\n",
        "fruits_sum1=fruits1+fruits2\n",
        "fruits_sum1.sort()\n",
        "print(fruits_sum1)"
      ]
    },
    {
      "cell_type": "code",
      "execution_count": null,
      "id": "f4e6799a-c4da-46c7-b1e2-e4408a4a6918",
      "metadata": {
        "id": "f4e6799a-c4da-46c7-b1e2-e4408a4a6918",
        "outputId": "e9ce8c09-a54d-42bd-a5e3-af706b3708ae"
      },
      "outputs": [
        {
          "name": "stdout",
          "output_type": "stream",
          "text": [
            "2\n",
            "3\n",
            "4\n",
            "5\n"
          ]
        }
      ],
      "source": [
        "for x in range(2, 6):\n",
        "  print(x)"
      ]
    },
    {
      "cell_type": "code",
      "execution_count": null,
      "id": "66762767-5b7d-4a25-aaa5-c330deb451e7",
      "metadata": {
        "id": "66762767-5b7d-4a25-aaa5-c330deb451e7",
        "outputId": "28291d9b-62a8-4e3e-b6bf-d2cf0392c54d"
      },
      "outputs": [
        {
          "name": "stdout",
          "output_type": "stream",
          "text": [
            "2\n",
            "5\n",
            "8\n",
            "11\n",
            "14\n",
            "17\n",
            "20\n",
            "23\n",
            "26\n",
            "29\n"
          ]
        }
      ],
      "source": [
        "for x in range(2, 30, 3):\n",
        "  print(x)"
      ]
    },
    {
      "cell_type": "markdown",
      "id": "44d27024-b5e6-453b-8124-ff3c2bf02f9e",
      "metadata": {
        "jp-MarkdownHeadingCollapsed": true,
        "tags": [],
        "id": "44d27024-b5e6-453b-8124-ff3c2bf02f9e"
      },
      "source": [
        "---\n",
        "## Tuples\n",
        "- Used to store multiple variables in a single variable\n",
        "- Are unchangable\n",
        "- defined with round brackets"
      ]
    },
    {
      "cell_type": "code",
      "execution_count": null,
      "id": "333bfa7a-2d8f-42a8-b668-048caefec854",
      "metadata": {
        "id": "333bfa7a-2d8f-42a8-b668-048caefec854",
        "outputId": "b467025e-9fd9-4bb1-be8d-a78a78f8326d"
      },
      "outputs": [
        {
          "name": "stdout",
          "output_type": "stream",
          "text": [
            "apple\n",
            "('banana', 'apple', 'grapes', 'melon', 'oranges', 'blueberry')\n",
            "('grapes', 'melon')\n",
            "('oranges', 'blueberry')\n"
          ]
        }
      ],
      "source": [
        "tup1 = (\"banana\",\"apple\",\"grapes\")\n",
        "print(tup1[1])\n",
        "tup2 = (\"melon\",\"oranges\",\"blueberry\")\n",
        "sum_tup=tup1+tup2\n",
        "print(sum_tup)\n",
        "print(sum_tup[2:4])\n",
        "print(sum_tup[-2:])"
      ]
    },
    {
      "cell_type": "markdown",
      "id": "ae179977-696f-43d6-9c58-49f4acf72033",
      "metadata": {
        "jp-MarkdownHeadingCollapsed": true,
        "id": "ae179977-696f-43d6-9c58-49f4acf72033"
      },
      "source": [
        "---\n",
        "## Dictionary\n",
        "\n",
        "- Dictionaries are used to store data values in *key:value* pairs\n",
        "- they are ordered and do not allow duplicacy\n",
        "- defined by curly braces\n"
      ]
    },
    {
      "cell_type": "code",
      "execution_count": null,
      "id": "bd153e08-26d5-4433-962f-09d1f6528347",
      "metadata": {
        "id": "bd153e08-26d5-4433-962f-09d1f6528347",
        "outputId": "6760050c-2a5d-4053-ebe5-05b868c6e660",
        "colab": {
          "base_uri": "https://localhost:8080/"
        }
      },
      "outputs": [
        {
          "output_type": "stream",
          "name": "stdout",
          "text": [
            "dict_keys(['Fruits', 'Dairy', 'staples']) dict_values([['apple', 'banana', 'orange'], ['milk', 'butter', 'cheese'], ['rice', 'wheat']])\n",
            "Items  ->  dict_items([('Fruits', ['apple', 'banana', 'orange']), ('Dairy', ['milk', 'butter', 'cheese']), ('staples', ['rice', 'wheat'])])\n",
            "Fruits ['apple', 'banana', 'orange']\n",
            "apple\n",
            "banana\n",
            "orange\n",
            "Dairy ['milk', 'butter', 'cheese']\n",
            "milk\n",
            "butter\n",
            "cheese\n",
            "staples ['rice', 'wheat']\n",
            "rice\n",
            "wheat\n",
            "--------------\n",
            "{'Fruits': ['apple', 'banana', 'orange'], 'Dairy': ['milk', 'butter', 'cheese'], 'staples': ['rice', 'wheat'], 'lentils': ['arhar', 'rajma']}\n",
            "{'Fruits': ['apple', 'banana', 'orange'], 'Dairy': ['milk', 'butter', 'cheese'], 'staples': ['rice', 'wheat'], 'lentils': ['masoor']}\n",
            "{'Fruits': ['apple', 'banana', 'orange'], 'staples': ['rice', 'wheat'], 'lentils': ['masoor']}\n",
            "--------------\n",
            "{'Fruits': ['apple', 'banana', 'orange'], 'staples': ['rice', 'wheat']}\n",
            "{'Fruits': ['apple', 'orange'], 'staples': ['rice', 'wheat'], 'lentils': ['arhar', 'rajma']}\n"
          ]
        }
      ],
      "source": [
        "Grocery = {\n",
        "    \"Fruits\": [\"apple\",\"banana\",\"orange\"],\n",
        "    \"Dairy\" : [\"milk\",\"butter\",\"cheese\"],\n",
        "    \"staples\" : [\"rice\",\"wheat\"],\n",
        "}\n",
        "#type(Grocery)\n",
        "#print(Grocery, len(Grocery))\n",
        "#print(Grocery[\"Dairy\"])\n",
        "print(Grocery.keys(),Grocery.values())\n",
        "x=Grocery.items()\n",
        "print(\"Items  -> \", x)\n",
        "\n",
        "\n",
        "for x in Grocery:\n",
        "  print(x,Grocery[x])\n",
        "  for y in Grocery[x]:\n",
        "    print(y)\n",
        "\n",
        "print(\"--------------\")\n",
        "Grocery[\"lentils\"] = [\"arhar\",\"rajma\"]\n",
        "print(Grocery)\n",
        "Grocery[\"lentils\"] = [\"masoor\"]\n",
        "print(Grocery)\n",
        "Grocery.pop(\"Dairy\")\n",
        "print(Grocery)\n",
        "print(\"--------------\")\n",
        "\n",
        "del Grocery[\"lentils\"]\n",
        "print(Grocery)\n",
        "Grocery[\"lentils\"] = [\"arhar\",\"rajma\"]\n",
        "\n",
        "Grocery[\"Fruits\"].pop(1)\n",
        "print(Grocery)"
      ]
    },
    {
      "cell_type": "markdown",
      "id": "b2942e7e-76aa-4753-bb58-342901812334",
      "metadata": {
        "jp-MarkdownHeadingCollapsed": true,
        "id": "b2942e7e-76aa-4753-bb58-342901812334"
      },
      "source": [
        "---\n",
        "## **Control Structures**\n",
        "- if, if-else, if-elif-else\n",
        "- while\n",
        "- for"
      ]
    },
    {
      "cell_type": "markdown",
      "source": [
        "### Finding division of a student"
      ],
      "metadata": {
        "id": "m3PVsfy0eFyo"
      },
      "id": "m3PVsfy0eFyo"
    },
    {
      "cell_type": "code",
      "source": [
        "marks=int(input(\"Give the marks \"))\n",
        "\n",
        "if (marks >= 60):\n",
        "  print(\"First Division\")\n",
        "elif (marks >= 50 and marks < 60):\n",
        "  print(\"Second Division\")\n",
        "elif (marks >= 40 and marks < 50):\n",
        "  print(\"Third Division\")\n",
        "else:\n",
        "  print(\"Fail\")"
      ],
      "metadata": {
        "id": "DYO3rrTHeAw7",
        "outputId": "79f6574f-1bbc-4b98-f3c7-327cd05c48c6",
        "colab": {
          "base_uri": "https://localhost:8080/"
        }
      },
      "id": "DYO3rrTHeAw7",
      "execution_count": null,
      "outputs": [
        {
          "output_type": "stream",
          "name": "stdout",
          "text": [
            "Give the marks 55\n",
            "Second Division\n"
          ]
        }
      ]
    },
    {
      "cell_type": "code",
      "execution_count": null,
      "id": "a92a56fb-e88e-437d-a16e-b3d40b091b39",
      "metadata": {
        "id": "a92a56fb-e88e-437d-a16e-b3d40b091b39",
        "outputId": "040faee4-d63f-4856-f158-5e8ebd1d073b"
      },
      "outputs": [
        {
          "name": "stdout",
          "output_type": "stream",
          "text": [
            "apple banana grapes\n"
          ]
        }
      ],
      "source": [
        "fruits = [\"apple\",\"banana\",\"grapes\"]\n",
        "x,y,z=fruits\n",
        "print(x,y,z)"
      ]
    },
    {
      "cell_type": "code",
      "execution_count": null,
      "id": "c5dc4ea8-026a-49c1-88ff-5ead1868d34b",
      "metadata": {
        "id": "c5dc4ea8-026a-49c1-88ff-5ead1868d34b",
        "outputId": "754e223c-efec-4c35-fc73-85b83ba3aa14"
      },
      "outputs": [
        {
          "name": "stdout",
          "output_type": "stream",
          "text": [
            "b is greater than a\n"
          ]
        }
      ],
      "source": [
        "a = 33\n",
        "b = 200\n",
        "if b > a:\n",
        "  print(\"b is greater than a\")"
      ]
    },
    {
      "cell_type": "code",
      "execution_count": null,
      "id": "6f30c8ca-9f30-480b-a1eb-1d217b3248db",
      "metadata": {
        "id": "6f30c8ca-9f30-480b-a1eb-1d217b3248db"
      },
      "outputs": [],
      "source": [
        "a = 33\n",
        "b = 33\n",
        "if b > a:\n",
        "  print(\"b is greater than a\")\n",
        "elif a == b:\n",
        "  print(\"a and b are equal\")"
      ]
    },
    {
      "cell_type": "code",
      "execution_count": null,
      "id": "4ccbbc85-d1ac-4885-a6a5-c27a08a757be",
      "metadata": {
        "id": "4ccbbc85-d1ac-4885-a6a5-c27a08a757be",
        "outputId": "235c4e15-e111-4709-871c-bdc4c81b7a27"
      },
      "outputs": [
        {
          "name": "stdout",
          "output_type": "stream",
          "text": [
            "1\n",
            "2\n",
            "3\n",
            "4\n",
            "5\n"
          ]
        }
      ],
      "source": [
        "i = 1\n",
        "while i < 6:\n",
        "  print(i)\n",
        "  i += 1"
      ]
    },
    {
      "cell_type": "code",
      "execution_count": null,
      "id": "d551e871-44c7-412e-8a8d-555b2eea76c7",
      "metadata": {
        "id": "d551e871-44c7-412e-8a8d-555b2eea76c7",
        "outputId": "2820901b-ad8c-43e1-ac4f-7eeb94d8d354"
      },
      "outputs": [
        {
          "name": "stdout",
          "output_type": "stream",
          "text": [
            "apple\n",
            "banana\n",
            "cherry\n"
          ]
        }
      ],
      "source": [
        "fruits = [\"apple\", \"banana\", \"cherry\"]\n",
        "for x in fruits:\n",
        "  print(x)"
      ]
    },
    {
      "cell_type": "markdown",
      "id": "6ef47445-eead-4b7c-a891-9acd8f00d01f",
      "metadata": {
        "id": "6ef47445-eead-4b7c-a891-9acd8f00d01f"
      },
      "source": [
        "### Break, Continue and Pass\n",
        "\n",
        "- Break: Forces the loop to stop\n",
        "- continue: forces the loop to start at the next iteration\n",
        "- pass: means \"there is no code to execute here\" and will continue through the remainder of the loop body."
      ]
    },
    {
      "cell_type": "code",
      "execution_count": null,
      "id": "fc8a3725-82ed-42d9-83e5-84241068e83f",
      "metadata": {
        "id": "fc8a3725-82ed-42d9-83e5-84241068e83f",
        "outputId": "657c70f5-6099-4a81-fc5e-2347f3a461b6",
        "colab": {
          "base_uri": "https://localhost:8080/"
        }
      },
      "outputs": [
        {
          "output_type": "stream",
          "name": "stdout",
          "text": [
            "apple\n",
            "-----------\n",
            "apple\n",
            "cherry\n"
          ]
        }
      ],
      "source": [
        "fruits = [\"apple\", \"banana\", \"cherry\"]\n",
        "for x in fruits:\n",
        "    if x == \"banana\":\n",
        "        break\n",
        "    print(x)"
      ]
    },
    {
      "cell_type": "code",
      "execution_count": null,
      "id": "afa9421f-eda4-45af-a7d2-69bb4f400a56",
      "metadata": {
        "id": "afa9421f-eda4-45af-a7d2-69bb4f400a56",
        "outputId": "60d96293-d785-4394-b4cb-4c9d099d7cb7"
      },
      "outputs": [
        {
          "name": "stdout",
          "output_type": "stream",
          "text": [
            "apple\n",
            "cherry\n"
          ]
        }
      ],
      "source": [
        "fruits = [\"apple\", \"banana\", \"cherry\"]\n",
        "for x in fruits:\n",
        "    if x == \"banana\":\n",
        "        continue\n",
        "    print(x)"
      ]
    },
    {
      "cell_type": "code",
      "execution_count": null,
      "id": "024ebc21-f5c5-4789-a868-31723f309212",
      "metadata": {
        "id": "024ebc21-f5c5-4789-a868-31723f309212",
        "outputId": "15ca1ead-ccfb-4e47-c8fc-7f4d8ce8f2f5"
      },
      "outputs": [
        {
          "name": "stdout",
          "output_type": "stream",
          "text": [
            "apple\n",
            "banana\n",
            "cherry\n"
          ]
        }
      ],
      "source": [
        "fruits = [\"apple\", \"banana\", \"cherry\"]\n",
        "for x in fruits:\n",
        "    if x == \"banana\":\n",
        "        pass\n",
        "    print(x)"
      ]
    },
    {
      "cell_type": "markdown",
      "source": [
        "---\n",
        "## **Formating Print statement**"
      ],
      "metadata": {
        "id": "X5LvG_3gMchn"
      },
      "id": "X5LvG_3gMchn"
    },
    {
      "cell_type": "markdown",
      "source": [
        "In below example:\n",
        "\n",
        "- **Integer:** %2d\" is a placeholder that uses the first element of the tuple. It prints the two characters.\n",
        "\n",
        "- **Float:** \"%5.2f\" is used. It is also introduced with character % like other placeholders. It shows the total number of strings it can contain. The decimal part of the number or the precision is set to 2, the number following \".\" in the placeholder. The last character, \"f\" shows a float number."
      ],
      "metadata": {
        "id": "5gKOkFd6VJsg"
      },
      "id": "5gKOkFd6VJsg"
    },
    {
      "cell_type": "code",
      "source": [
        "#integer and float value\n",
        "print(\"integer : % 2d, float : % 5.2f\" %(1, 05.333))\n",
        "\n",
        "#integer value\n",
        "print(\"Total Player : % 5d, Batsman : % 2d\" %(24, 12))\n",
        "\n",
        "#octal value\n",
        "print(\"% 5.3o\"% (50))\n",
        "\n",
        "#exponential value\n",
        "print(\"% 10.2E\"% (456.1458))"
      ],
      "metadata": {
        "id": "KQIeaAsETPGv",
        "outputId": "5fe2be50-a372-4af9-d288-3479c03cc726",
        "colab": {
          "base_uri": "https://localhost:8080/"
        }
      },
      "id": "KQIeaAsETPGv",
      "execution_count": null,
      "outputs": [
        {
          "output_type": "stream",
          "name": "stdout",
          "text": [
            "integer :  1, float :  5.33\n",
            "Total Player :    24, Batsman :  12\n",
            "  062\n",
            "  4.56E+02\n"
          ]
        }
      ]
    },
    {
      "cell_type": "code",
      "source": [
        "import math\n",
        "print(f'The value of pi is approximately {math.pi:10.3f}.')"
      ],
      "metadata": {
        "colab": {
          "base_uri": "https://localhost:8080/"
        },
        "id": "eJQ9n8H7MhIf",
        "outputId": "548369ad-f853-4676-88b3-238f64c90eb8"
      },
      "id": "eJQ9n8H7MhIf",
      "execution_count": null,
      "outputs": [
        {
          "output_type": "stream",
          "name": "stdout",
          "text": [
            "The value of pi is approximately      3.142.\n"
          ]
        }
      ]
    },
    {
      "cell_type": "code",
      "source": [
        "table = {'Sjoerd': 4127, 'Jack': 4098, 'Dcab': 7678}\n",
        "for name, phone in table.items():\n",
        "    print(f'{name:15} ==> {phone:15d}')"
      ],
      "metadata": {
        "colab": {
          "base_uri": "https://localhost:8080/"
        },
        "id": "buT6jVd8NDVi",
        "outputId": "d96ff395-9f2d-41f7-852d-6028b1b47bf2"
      },
      "id": "buT6jVd8NDVi",
      "execution_count": null,
      "outputs": [
        {
          "output_type": "stream",
          "name": "stdout",
          "text": [
            "Sjoerd          ==>            4127\n",
            "Jack            ==>            4098\n",
            "Dcab            ==>            7678\n"
          ]
        }
      ]
    },
    {
      "cell_type": "markdown",
      "source": [
        "### Using **format** statement:\n",
        "\n",
        "The brackets and characters within the item are called format fields which are replaced with the object passed into the **format()** method. A number in the brackets can be used to refer to the object's position passed into the **format()** method.\n",
        "\n"
      ],
      "metadata": {
        "id": "xds6khPfWGpC"
      },
      "id": "xds6khPfWGpC"
    },
    {
      "cell_type": "code",
      "source": [
        "# using format() method\n",
        "print('{} {}'.format('Hello', 'World'))\n",
        "\n",
        "# using format() method and referring  a position of the object\n",
        "print('{0} to {1}'.format('Welcome', 'JavaTpoint'))\n",
        "print('{1} to {0}'.format('Welcome', 'JavaTpoint'))\n",
        "\n",
        "print('Number one position is {0}, {1}, and {other}.'\n",
        "     .format('Java', 'T', other ='Point'))\n",
        "\n",
        "# using format() method with number\n",
        "print(\"Java :{0:2d}, Tpoint :{1:8.2f}\".\n",
        "      format(12, 00.546))\n",
        "\n",
        "# Changing positional argument\n",
        "print(\"Second argument: {1:3d}, first one: {0:7.2f}\".\n",
        "      format(47.42, 11))\n",
        "\n",
        "print(\"Java: {a:5d},  Tpoint: {p:8.2f}\".\n",
        "     format(a = 453, p = 59.058))"
      ],
      "metadata": {
        "id": "_fqjADIeV0xT",
        "outputId": "2fbf9487-90c8-46f7-ec31-945e245a706d",
        "colab": {
          "base_uri": "https://localhost:8080/"
        }
      },
      "id": "_fqjADIeV0xT",
      "execution_count": null,
      "outputs": [
        {
          "output_type": "stream",
          "name": "stdout",
          "text": [
            "Hello World\n",
            "Welcome to JavaTpoint\n",
            "JavaTpoint to Welcome\n",
            "Number one position is Java, T, and Point.\n",
            "Java :12, Tpoint :    0.55\n",
            "Second argument:  11, first one:   47.42\n",
            "Java:   453,  Tpoint:    59.06\n"
          ]
        }
      ]
    },
    {
      "cell_type": "markdown",
      "id": "10a0d037-20ab-4af9-aca5-8bf975b6e272",
      "metadata": {
        "id": "10a0d037-20ab-4af9-aca5-8bf975b6e272"
      },
      "source": [
        "---\n",
        "## Numpy\n",
        "\n",
        "Numerical Python\n",
        "\n",
        "- Python librry for working with arrays.\n",
        "- Has builtin functions for linear algebra, fourier transform and matrices\n",
        "\n",
        "**Data type in Numpy**\n",
        "\n",
        "- boolean\n",
        "- unsigned integer\n",
        "- float\n",
        "- complex float\n",
        "- timedelta\n",
        "- datetime\n",
        "- object\n",
        "- string\n",
        "- unicode string\n",
        "- fixed chunk of memory of other type (void)\n"
      ]
    },
    {
      "cell_type": "markdown",
      "id": "938c8d50-ee26-4e92-87c5-ff9ddf3abe65",
      "metadata": {
        "id": "938c8d50-ee26-4e92-87c5-ff9ddf3abe65"
      },
      "source": [
        "**Difference between lists and numpy arrays**\n",
        "\n",
        "- Numpy arrays are much faster to process, they have many more utilities.\n",
        "- Numpy arrays are homogeneous whereas list can have mixtures.\n",
        "- Element wise operations possible with Numpy arrays, not possible with lists\n",
        "- Elements are stored contiguously in memory, not necessarily the case with lists"
      ]
    },
    {
      "cell_type": "code",
      "source": [],
      "metadata": {
        "id": "mf8ypyPzd8Ea"
      },
      "id": "mf8ypyPzd8Ea",
      "execution_count": null,
      "outputs": []
    },
    {
      "cell_type": "code",
      "execution_count": 21,
      "id": "907cbf2e-aaff-47f5-aac7-f071a75f5745",
      "metadata": {
        "id": "907cbf2e-aaff-47f5-aac7-f071a75f5745",
        "outputId": "0a7df4b7-5023-4b69-9227-a09142e16fcf",
        "colab": {
          "base_uri": "https://localhost:8080/"
        }
      },
      "outputs": [
        {
          "output_type": "stream",
          "name": "stdout",
          "text": [
            "[[1 2 3]\n",
            " [4 5 6]\n",
            " [7 8 9]] (3, 3) [[1 2 3]\n",
            " [4 5 6]\n",
            " [7 8 9]]\n",
            "[[ 4  5  6]\n",
            " [ 7  8  9]\n",
            " [10 11 12]]\n",
            "[[ 3  6  9]\n",
            " [12 15 18]\n",
            " [21 24 27]]\n",
            "[0 1 2 3 4]\n",
            "Multiplication:  [[ 30  36  42]\n",
            " [ 66  81  96]\n",
            " [102 126 150]] [[1 4 7]\n",
            " [2 5 8]\n",
            " [3 6 9]] [1 2 3 4 5 6 7 8 9]\n",
            "0\n",
            "1\n",
            "2\n",
            "3\n",
            "4\n",
            "<class 'numpy.ndarray'>\n"
          ]
        }
      ],
      "source": [
        "import numpy as np\n",
        "\n",
        "a = np.array([(1,2,3),(4,5,6),(7,8,9)])\n",
        "c=a\n",
        "print(a, a.shape,c)\n",
        "print(a+3)\n",
        "print(3*a)\n",
        "\n",
        "b = np.arange(5)\n",
        "print(b)\n",
        "\n",
        "print('Multiplication: ', a.dot(c), a.transpose(), a.flatten())\n",
        "\n",
        "for x in b:\n",
        "    print(x)\n",
        "print(type(a))"
      ]
    },
    {
      "cell_type": "markdown",
      "id": "caa47e95-5eba-4322-8b87-f99392d24b57",
      "metadata": {
        "id": "caa47e95-5eba-4322-8b87-f99392d24b57"
      },
      "source": [
        "*Copy vs View*"
      ]
    },
    {
      "cell_type": "code",
      "execution_count": null,
      "id": "40507323-4f67-4058-8842-62a02ab4839e",
      "metadata": {
        "id": "40507323-4f67-4058-8842-62a02ab4839e",
        "outputId": "337a936d-edf3-4d69-a19b-1246e4a5304a"
      },
      "outputs": [
        {
          "name": "stdout",
          "output_type": "stream",
          "text": [
            "[ 0 10  2  3  4  5] [0 1 2 3 4 5]\n",
            "[ 0 20  2  3  4  5] [ 0 20  2  3  4  5]\n",
            "[[ 0 20  2]\n",
            " [ 3  4  5]]\n",
            "Iter: [ 0 20  2]\n",
            "Iter: [3 4 5]\n",
            "Iter: 0\n",
            "Iter: 20\n",
            "Iter: 2\n",
            "Iter: 3\n",
            "Iter: 4\n",
            "Iter: 5\n"
          ]
        }
      ],
      "source": [
        "arr1 = np.array([0,1,2,3,4,5])\n",
        "x = arr1.copy()\n",
        "arr1[1] = 10\n",
        "print(arr1, x)\n",
        "\n",
        "y = arr1.view()\n",
        "arr1[1] = 20\n",
        "print(arr1,y)\n",
        "\n",
        "arr2=arr1.reshape(2,3)\n",
        "print(arr2)\n",
        "\n",
        "for i in arr2:\n",
        "    print(\"Iter:\", i)\n",
        "\n",
        "for i in arr2:\n",
        "    for j in i:\n",
        "        print(\"Iter:\", j)"
      ]
    },
    {
      "cell_type": "code",
      "execution_count": null,
      "id": "37d35aff-5648-4bb9-9b06-4d23315310bc",
      "metadata": {
        "id": "37d35aff-5648-4bb9-9b06-4d23315310bc",
        "outputId": "7cabd80f-8688-4bb5-bd08-e5e7a35f2e25"
      },
      "outputs": [
        {
          "name": "stdout",
          "output_type": "stream",
          "text": [
            "[  0   3  10  21 100]\n",
            "[[ 0  2 20]\n",
            " [ 3  4  5]]\n"
          ]
        }
      ],
      "source": [
        "arr1=np.array([10,3,0,100,21])\n",
        "print(np.sort(arr1))\n",
        "print(np.sort(arr2))"
      ]
    },
    {
      "cell_type": "markdown",
      "id": "2e49dcea-2c0a-4005-9c59-8679bd020303",
      "metadata": {
        "id": "2e49dcea-2c0a-4005-9c59-8679bd020303"
      },
      "source": [
        "**Random numbers in Numpy**"
      ]
    },
    {
      "cell_type": "code",
      "execution_count": null,
      "id": "232a9dd8-6a37-434d-adfc-0e1cbef70122",
      "metadata": {
        "id": "232a9dd8-6a37-434d-adfc-0e1cbef70122",
        "outputId": "9fd91a9f-cb52-4867-89eb-a81ee5bfb3ac"
      },
      "outputs": [
        {
          "name": "stdout",
          "output_type": "stream",
          "text": [
            "2 0.4224242494833763\n"
          ]
        }
      ],
      "source": [
        "from numpy import random\n",
        "x = random.randint(10)\n",
        "y = random.rand()\n",
        "print(x,y)"
      ]
    },
    {
      "cell_type": "code",
      "execution_count": null,
      "id": "10f10af2-8a54-47fd-a99a-43b49c9ea8cd",
      "metadata": {
        "id": "10f10af2-8a54-47fd-a99a-43b49c9ea8cd",
        "outputId": "17cda6fd-b943-4877-b806-85e8de2fe9c0"
      },
      "outputs": [
        {
          "name": "stdout",
          "output_type": "stream",
          "text": [
            "[[ 0.54893109  0.59697772  1.31326278]\n",
            " [-1.01179039 -0.2313002  -0.24103264]]\n"
          ]
        }
      ],
      "source": [
        "x = random.normal(size=(2,3))\n",
        "print(x)"
      ]
    },
    {
      "cell_type": "markdown",
      "id": "c76c0f58-5cab-4ce9-906e-97ba997527ff",
      "metadata": {
        "id": "c76c0f58-5cab-4ce9-906e-97ba997527ff"
      },
      "source": [
        "**Permutation of arrays**"
      ]
    },
    {
      "cell_type": "code",
      "execution_count": null,
      "id": "040a55ba-6ad2-42fc-b736-b2b2a8e9e3cf",
      "metadata": {
        "id": "040a55ba-6ad2-42fc-b736-b2b2a8e9e3cf",
        "outputId": "a5191b78-92b8-47bb-c30e-c8f42f50d3b1"
      },
      "outputs": [
        {
          "name": "stdout",
          "output_type": "stream",
          "text": [
            "[1 4 5 3 2]\n"
          ]
        }
      ],
      "source": [
        "from numpy import random\n",
        "import numpy as np\n",
        "\n",
        "arr = np.array([1,2,3,4,5])\n",
        "print(random.permutation(arr))"
      ]
    },
    {
      "cell_type": "code",
      "source": [
        "import numpy as np\n",
        "\n",
        "arr = np.array([2,10,4,1,7,21,40])\n",
        "np.sort(arr,)"
      ],
      "metadata": {
        "id": "kSr4SCjLYAyH",
        "outputId": "b8bbb748-e641-4d91-972d-8494a22d9f47",
        "colab": {
          "base_uri": "https://localhost:8080/"
        }
      },
      "id": "kSr4SCjLYAyH",
      "execution_count": null,
      "outputs": [
        {
          "output_type": "execute_result",
          "data": {
            "text/plain": [
              "array([ 1,  2,  4,  7, 10, 21, 40])"
            ]
          },
          "metadata": {},
          "execution_count": 25
        }
      ]
    },
    {
      "cell_type": "code",
      "source": [
        "import numpy as np\n",
        "\n",
        "a = np.array([2,3,8,1,9,10,33,21])\n",
        "print(a)\n",
        "print(np.sort(a),np.sort(a)[::-1],np.sum(a),len(a))\n",
        "print(np.max(a),np.min(a),np.mean(a),np.var(a) )"
      ],
      "metadata": {
        "colab": {
          "base_uri": "https://localhost:8080/"
        },
        "id": "_-Y8WTb_Y1Jv",
        "outputId": "63e627f6-7e1c-4c09-e92e-96811264a856"
      },
      "id": "_-Y8WTb_Y1Jv",
      "execution_count": 14,
      "outputs": [
        {
          "output_type": "stream",
          "name": "stdout",
          "text": [
            "[ 2  3  8  1  9 10 33 21]\n",
            "[ 1  2  3  8  9 10 21 33] [33 21 10  9  8  3  2  1] 87 8\n",
            "33 1 10.875 105.359375\n"
          ]
        }
      ]
    },
    {
      "cell_type": "code",
      "source": [
        "b=np.zeros(5)\n",
        "c=np.ones(5)\n",
        "print(b,c)"
      ],
      "metadata": {
        "colab": {
          "base_uri": "https://localhost:8080/"
        },
        "id": "mpeX0ksAc2RB",
        "outputId": "21d0102e-4316-4965-d90a-4eb1ed518ddf"
      },
      "id": "mpeX0ksAc2RB",
      "execution_count": 12,
      "outputs": [
        {
          "output_type": "stream",
          "name": "stdout",
          "text": [
            "[0. 0. 0. 0. 0.] [1. 1. 1. 1. 1.]\n"
          ]
        }
      ]
    },
    {
      "cell_type": "markdown",
      "id": "29ec0aed-0a3d-4b02-8369-12592e22c86b",
      "metadata": {
        "id": "29ec0aed-0a3d-4b02-8369-12592e22c86b"
      },
      "source": [
        "---\n",
        "## Functions"
      ]
    },
    {
      "cell_type": "code",
      "execution_count": null,
      "id": "89203409-bf33-4246-a635-d469bf4f0fd0",
      "metadata": {
        "id": "89203409-bf33-4246-a635-d469bf4f0fd0",
        "outputId": "b9620933-8a54-4fc4-af9d-fbf6be9545d9"
      },
      "outputs": [
        {
          "name": "stdout",
          "output_type": "stream",
          "text": [
            "This is my function\n"
          ]
        }
      ],
      "source": [
        "def my_func():\n",
        "    print(\"This is my function\")\n",
        "\n",
        "my_func()"
      ]
    },
    {
      "cell_type": "code",
      "execution_count": null,
      "id": "cdaf6969-b233-4c3e-bc42-d29600abce99",
      "metadata": {
        "id": "cdaf6969-b233-4c3e-bc42-d29600abce99",
        "outputId": "84b188ae-ef59-4ef0-f405-8e5d588ee95b"
      },
      "outputs": [
        {
          "name": "stdout",
          "output_type": "stream",
          "text": [
            "Name is the time College\n"
          ]
        }
      ],
      "source": [
        "def my_func(xx,yy):\n",
        "    print(xx + \" is the time \" + yy)\n",
        "\n",
        "my_func(\"Name\",\"College\")"
      ]
    },
    {
      "cell_type": "code",
      "execution_count": null,
      "id": "7b8b20d6-10f6-4d59-ba1b-672ff5258d97",
      "metadata": {
        "id": "7b8b20d6-10f6-4d59-ba1b-672ff5258d97",
        "outputId": "ffc0b8cd-c6bc-41ab-b295-391dd61ed115"
      },
      "outputs": [
        {
          "name": "stdout",
          "output_type": "stream",
          "text": [
            "The names are  Banana\n"
          ]
        }
      ],
      "source": [
        "def my_func1(*xx):\n",
        "    print(\"The names are \", xx[1])\n",
        "my_func1(\"Apple\", \"Banana\", \"Orange\")"
      ]
    },
    {
      "cell_type": "code",
      "execution_count": null,
      "id": "5fa8665b-35d4-411b-b5e0-40b6a416f76b",
      "metadata": {
        "id": "5fa8665b-35d4-411b-b5e0-40b6a416f76b",
        "outputId": "f18fde02-c452-4e31-f8d1-3cd842926ab8"
      },
      "outputs": [
        {
          "name": "stdout",
          "output_type": "stream",
          "text": [
            "I am from Sweden\n",
            "I am from India\n",
            "I am from Norway\n",
            "I am from Brazil\n"
          ]
        }
      ],
      "source": [
        "def my_function(country = \"Norway\"):\n",
        "  print(\"I am from \" + country)\n",
        "\n",
        "my_function(\"Sweden\")\n",
        "my_function(\"India\")\n",
        "my_function()\n",
        "my_function(\"Brazil\")"
      ]
    },
    {
      "cell_type": "code",
      "execution_count": null,
      "id": "dea86ac4-0c71-4ec5-a4d3-52d4f8e3f0fe",
      "metadata": {
        "id": "dea86ac4-0c71-4ec5-a4d3-52d4f8e3f0fe",
        "outputId": "c4302feb-892c-4a1b-f848-9cdf6690e6cc"
      },
      "outputs": [
        {
          "name": "stdout",
          "output_type": "stream",
          "text": [
            "6\n"
          ]
        }
      ],
      "source": [
        "def func1(x):\n",
        "    return x*x + 2\n",
        "print(func1(2))"
      ]
    },
    {
      "cell_type": "markdown",
      "id": "00dcc2ba-24dc-4a9c-92f9-421fe11e677f",
      "metadata": {
        "id": "00dcc2ba-24dc-4a9c-92f9-421fe11e677f"
      },
      "source": [
        "---\n",
        "## **Plot**"
      ]
    },
    {
      "cell_type": "code",
      "execution_count": null,
      "id": "06014981-3bd4-4ff4-a598-cb2d1d643b2c",
      "metadata": {
        "id": "06014981-3bd4-4ff4-a598-cb2d1d643b2c",
        "outputId": "9c9c8c39-4aad-4c0f-ecf2-534eadfd0808"
      },
      "outputs": [
        {
          "data": {
            "image/png": "[encoded data removed]",
            "text/plain": [
              "<Figure size 432x288 with 1 Axes>"
            ]
          },
          "metadata": {
            "needs_background": "light"
          },
          "output_type": "display_data"
        }
      ],
      "source": [
        "import matplotlib.pyplot as plt\n",
        "import numpy as np\n",
        "\n",
        "xpoints=np.arange(0,10,1)\n",
        "ypoints=xpoints*2\n",
        "\n",
        "#print(xpoints,ypoints)\n",
        "plt.plot(xpoints,ypoints,marker=\".\",ms=20)\n",
        "plt.show()\n"
      ]
    },
    {
      "cell_type": "code",
      "execution_count": null,
      "id": "731072e1-d1ba-4b43-b5de-1d771396b237",
      "metadata": {
        "id": "731072e1-d1ba-4b43-b5de-1d771396b237",
        "outputId": "4aac182f-65be-4799-ed58-8eac26fad04c"
      },
      "outputs": [
        {
          "data": {
            "image/png": "[encoded data removed]",
            "text/plain": [
              "<Figure size 432x288 with 1 Axes>"
            ]
          },
          "metadata": {
            "needs_background": "light"
          },
          "output_type": "display_data"
        }
      ],
      "source": [
        "import matplotlib.pyplot as plt\n",
        "import numpy as np\n",
        "\n",
        "# setting the x - coordinates\n",
        "x = np.arange(0, 2*(np.pi), 0.1)\n",
        "# setting the corresponding y - coordinates\n",
        "y = np.sin(x)\n",
        "\n",
        "# plotting the points\n",
        "plt.plot(x, y,'r*')\n",
        "\n",
        "# function to show the plot\n",
        "plt.show()\n"
      ]
    },
    {
      "cell_type": "code",
      "execution_count": null,
      "id": "fbdc3994-5e7c-4003-a079-ce7950549cbc",
      "metadata": {
        "id": "fbdc3994-5e7c-4003-a079-ce7950549cbc",
        "outputId": "297957c9-48b3-4f39-e1fa-c1a97a433c5a"
      },
      "outputs": [
        {
          "data": {
            "image/png": "[encoded data removed]",
            "text/plain": [
              "<Figure size 432x288 with 1 Axes>"
            ]
          },
          "metadata": {
            "needs_background": "light"
          },
          "output_type": "display_data"
        }
      ],
      "source": [
        "import matplotlib.pyplot as plt\n",
        "\n",
        "def ff(x):\n",
        "    test1 = x**2 + x + 1\n",
        "    return test1\n",
        "\n",
        "def ff1(x):\n",
        "    test1 = 2*x\n",
        "    return test1\n",
        "\n",
        "\n",
        "y = np.linspace(-5,5,10)\n",
        "yy = ff(y)\n",
        "yy1=ff1(y)\n",
        "#print(y,yy)\n",
        "plt.plot(y,yy)\n",
        "plt.plot(y,yy1,\"r*\")\n",
        "\n",
        "plt.xlabel('X axis', fontsize = 10)\n",
        "plt.ylabel('Y axis', fontsize = 10)\n",
        "plt.title(\"Test plot\")\n",
        "plt.show()\n"
      ]
    },
    {
      "cell_type": "markdown",
      "source": [
        "### **Histogram**"
      ],
      "metadata": {
        "id": "NC94yS0mZKyh"
      },
      "id": "NC94yS0mZKyh"
    },
    {
      "cell_type": "code",
      "source": [
        "import matplotlib.pyplot as plt\n",
        "import numpy as np\n",
        "\n",
        "# Normal distribution with mean at 170, Standard Deviation of 10 and 250 points\n",
        "x = np.random.normal(170, 10, 250)\n",
        "\n",
        "plt.hist(x)\n",
        "plt.show()"
      ],
      "metadata": {
        "id": "o3xhti4nZIba",
        "outputId": "437cf6e9-7cf0-48f1-9ec5-e00a2699028b",
        "colab": {
          "base_uri": "https://localhost:8080/",
          "height": 430
        }
      },
      "id": "o3xhti4nZIba",
      "execution_count": null,
      "outputs": [
        {
          "output_type": "display_data",
          "data": {
            "text/plain": [
              "<Figure size 640x480 with 1 Axes>"
            ],
            "image/png": "[encoded data removed]"
          },
          "metadata": {}
        }
      ]
    },
    {
      "cell_type": "markdown",
      "id": "6bad594e-daa9-488a-b6e0-aec7b1770605",
      "metadata": {
        "id": "6bad594e-daa9-488a-b6e0-aec7b1770605"
      },
      "source": [
        "---\n",
        "## Random Number"
      ]
    },
    {
      "cell_type": "code",
      "execution_count": null,
      "id": "7dc8814b-a9c0-457b-b476-ed7c0091d602",
      "metadata": {
        "id": "7dc8814b-a9c0-457b-b476-ed7c0091d602",
        "outputId": "d4a974d6-506e-4b2c-bbc6-04a4c02394e1"
      },
      "outputs": [
        {
          "name": "stdout",
          "output_type": "stream",
          "text": [
            "0.0885734955328209\n"
          ]
        }
      ],
      "source": [
        "import random\n",
        "n = random.random()\n",
        "print(n)"
      ]
    },
    {
      "cell_type": "code",
      "execution_count": null,
      "id": "d6dd1f01-d023-47d1-a408-8e33594891d6",
      "metadata": {
        "id": "d6dd1f01-d023-47d1-a408-8e33594891d6",
        "outputId": "78ec55b6-6850-46f8-c972-61060e68bb7e"
      },
      "outputs": [
        {
          "name": "stdout",
          "output_type": "stream",
          "text": [
            "2\n",
            "[2, 0, 6, 4, 3]\n"
          ]
        }
      ],
      "source": [
        "import random\n",
        "n = random.randint(1,10)\n",
        "print(n)\n",
        "print(random.sample(range(0,10),5))"
      ]
    },
    {
      "cell_type": "code",
      "execution_count": null,
      "id": "473857d8-6764-40c6-a8f1-9961d6d94d71",
      "metadata": {
        "id": "473857d8-6764-40c6-a8f1-9961d6d94d71",
        "outputId": "df52b00e-9315-4a09-f11d-4a8491a2baa2"
      },
      "outputs": [
        {
          "data": {
            "image/png": "[encoded data removed]",
            "text/plain": [
              "<Figure size 432x288 with 1 Axes>"
            ]
          },
          "metadata": {
            "needs_background": "light"
          },
          "output_type": "display_data"
        }
      ],
      "source": [
        "import random\n",
        "import matplotlib.pyplot as plt\n",
        "\n",
        "no_of_points = 500\n",
        "x = [random.randint(1,100) for n in range(no_of_points)]\n",
        "y = [random.randint(1,100) for n in range(no_of_points)]\n",
        "#print(x,y)\n",
        "plt.scatter(x,y)\n",
        "plt.show()"
      ]
    },
    {
      "cell_type": "markdown",
      "id": "41683452-3ce3-4be4-8668-b62a40a03b6a",
      "metadata": {
        "id": "41683452-3ce3-4be4-8668-b62a40a03b6a"
      },
      "source": [
        "---\n",
        "# **Program**"
      ]
    },
    {
      "cell_type": "markdown",
      "source": [
        "###**Temperature Conversion**\n"
      ],
      "metadata": {
        "id": "X4jV6Z7vUMGv"
      },
      "id": "X4jV6Z7vUMGv"
    },
    {
      "cell_type": "code",
      "source": [
        "\n",
        "tc=int(input(\"Give temperature in Celsius : \"))\n",
        "\n",
        "tf = tc*9.0/5.0 + 32\n",
        "\n",
        "print(\"The temperature in Farenheit is : \", tf)"
      ],
      "metadata": {
        "colab": {
          "base_uri": "https://localhost:8080/"
        },
        "id": "MFU0Z-KxUp5_",
        "outputId": "6ee4911c-7084-4479-f337-b84f9f312d16"
      },
      "id": "MFU0Z-KxUp5_",
      "execution_count": null,
      "outputs": [
        {
          "output_type": "stream",
          "name": "stdout",
          "text": [
            "Give temperature in Celsius : 30\n",
            "The temperature in Farenheit is :  86.0\n"
          ]
        }
      ]
    },
    {
      "cell_type": "markdown",
      "source": [
        "###**Solutions of Quadratic equation**\n",
        "\n",
        "$$a x^2 + b x + c = 0$$"
      ],
      "metadata": {
        "id": "FL9JcnyEUsvF"
      },
      "id": "FL9JcnyEUsvF"
    },
    {
      "cell_type": "code",
      "source": [
        "a,b,c = map(int,input(\"Give the values of a, b and c : \").split())\n",
        "\n",
        "d = b**2 - 4*a*c\n",
        "\n",
        "if d > 0:\n",
        "  x1 = (-b + d**0.5)/(2*a)\n",
        "  x2 = (-b - d**0.5)/(2*a)\n",
        "elif d == 0:\n",
        "  x1 = -b / (2*a)\n",
        "else:\n",
        "  x1a = -b / (2*a)\n",
        "  x1b = d**0.5 / (2*a)\n",
        "  x1 = complex(x1a, x1b)\n",
        "  x2 = complex(x1a, -x1b)\n",
        "\n",
        "print(\"The solutions are : \", x1, x2)"
      ],
      "metadata": {
        "colab": {
          "base_uri": "https://localhost:8080/"
        },
        "id": "FaSKGeV1U0fR",
        "outputId": "ea901996-6596-459f-c935-594141527aaa"
      },
      "id": "FaSKGeV1U0fR",
      "execution_count": null,
      "outputs": [
        {
          "output_type": "stream",
          "name": "stdout",
          "text": [
            "Give the values of a, b and c : 2 3 5 \n",
            "The solutions are :  (-2.1419410907075056+8.52318100668311e-17j) (0.6419410907075054-8.52318100668311e-17j)\n"
          ]
        }
      ]
    },
    {
      "cell_type": "markdown",
      "source": [
        "### **Largest of three numbers**"
      ],
      "metadata": {
        "id": "ELhikZTGXiKt"
      },
      "id": "ELhikZTGXiKt"
    },
    {
      "cell_type": "code",
      "source": [
        "a,b,c = map(int,input(\"Give three numbers : \").split())\n",
        "\n",
        "if (a >= b) and (a >= c):\n",
        "  largest = a\n",
        "elif (b >= a) and (b >= c):\n",
        "  largest = b\n",
        "else:\n",
        "  largest = c\n",
        "\n",
        "print(\"The largest number is\", largest)"
      ],
      "metadata": {
        "id": "GrQMc2ceWL98",
        "outputId": "7d1f7391-a589-4075-a0e0-630781e7f535",
        "colab": {
          "base_uri": "https://localhost:8080/"
        }
      },
      "id": "GrQMc2ceWL98",
      "execution_count": null,
      "outputs": [
        {
          "output_type": "stream",
          "name": "stdout",
          "text": [
            "Give three numbers : 3 7 9\n",
            "The largest number is 9\n"
          ]
        }
      ]
    },
    {
      "cell_type": "markdown",
      "source": [
        "## **Factorial of a number**"
      ],
      "metadata": {
        "id": "FmLEBUMSWJa3"
      },
      "id": "FmLEBUMSWJa3"
    },
    {
      "cell_type": "code",
      "execution_count": null,
      "id": "9f84af61-eb43-4f19-990d-a2b31e665865",
      "metadata": {
        "id": "9f84af61-eb43-4f19-990d-a2b31e665865",
        "outputId": "cb0b4e82-6dcc-47da-d126-fdd9b8501147"
      },
      "outputs": [
        {
          "name": "stdout",
          "output_type": "stream",
          "text": [
            "The factorial of 7 is 5040\n"
          ]
        }
      ],
      "source": [
        "# Python program to find the factorial of a number provided by the user.\n",
        "\n",
        "# change the value for a different result\n",
        "num = 7\n",
        "\n",
        "# To take input from the user\n",
        "#num = int(input(\"Enter a number: \"))\n",
        "\n",
        "factorial = 1\n",
        "\n",
        "# check if the number is negative, positive or zero\n",
        "if num < 0:\n",
        "   print(\"Sorry, factorial does not exist for negative numbers\")\n",
        "elif num == 0:\n",
        "   print(\"The factorial of 0 is 1\")\n",
        "else:\n",
        "   for i in range(1,num + 1):\n",
        "       factorial = factorial*i\n",
        "   print(\"The factorial of\",num,\"is\",factorial)"
      ]
    },
    {
      "cell_type": "code",
      "source": [
        "# Python program (using Function) to find the factorial of a number provided by the user.\n",
        "\n",
        "def fact(n):\n",
        "  factorial = 1\n",
        "  # check if the number is negative, positive or zero\n",
        "  if num == 0:\n",
        "    factorial = 1\n",
        "#    print(\"The factorial of 0 is 1\")\n",
        "  else:\n",
        "    for i in range(1,num + 1):\n",
        "        factorial = factorial*i\n",
        "  return factorial\n",
        "\n",
        "\n",
        "# change the value for a different result\n",
        "#num = 7\n",
        "\n",
        "# To take input from the user\n",
        "num = int(input(\"Enter a number: \"))\n",
        "\n",
        "print(\"The factorial of\",num,\"is\",fact(num))"
      ],
      "metadata": {
        "colab": {
          "base_uri": "https://localhost:8080/"
        },
        "id": "nniW4T2ug0Z4",
        "outputId": "2f38f490-2ab0-4d4f-a4b6-dbc94e89e651"
      },
      "id": "nniW4T2ug0Z4",
      "execution_count": null,
      "outputs": [
        {
          "output_type": "stream",
          "name": "stdout",
          "text": [
            "Enter a number: 10\n",
            "The factorial of 10 is 3628800\n"
          ]
        }
      ]
    },
    {
      "cell_type": "markdown",
      "source": [
        "# **Program(Functions)**\n"
      ],
      "metadata": {
        "id": "jRkpKLJliCtE"
      },
      "id": "jRkpKLJliCtE"
    },
    {
      "cell_type": "markdown",
      "source": [
        "## **Largest Number**"
      ],
      "metadata": {
        "id": "SayJhCzWJpC-"
      },
      "id": "SayJhCzWJpC-"
    },
    {
      "cell_type": "markdown",
      "source": [
        "Finding largest of three numbers"
      ],
      "metadata": {
        "id": "G_6_0IbvlLfH"
      },
      "id": "G_6_0IbvlLfH"
    },
    {
      "cell_type": "code",
      "source": [
        "def maximum(a, b, c):\n",
        "  if (a >= b) and (a >= c):\n",
        "    largest = a\n",
        "  elif (b >= a) and (b >= c):\n",
        "    largest = b\n",
        "  else:\n",
        "    largest = c\n",
        "  return largest\n",
        "\n",
        "\n",
        "# Main part\n",
        "a = 10\n",
        "b = 14\n",
        "c = 12\n",
        "print(maximum(a, b, c))"
      ],
      "metadata": {
        "colab": {
          "base_uri": "https://localhost:8080/"
        },
        "id": "_RKOst_ViBzy",
        "outputId": "2a7d5225-7687-42e2-e027-bb3c4e0799ae"
      },
      "id": "_RKOst_ViBzy",
      "execution_count": null,
      "outputs": [
        {
          "output_type": "stream",
          "name": "stdout",
          "text": [
            "14\n"
          ]
        }
      ]
    },
    {
      "cell_type": "markdown",
      "source": [
        "Finding largest number in a list"
      ],
      "metadata": {
        "id": "-HFgcLMSjPEw"
      },
      "id": "-HFgcLMSjPEw"
    },
    {
      "cell_type": "code",
      "source": [
        "def largest(l):\n",
        "  max = l[0]\n",
        "  n = len(l)\n",
        "  for i in range(1, n):\n",
        "    if l[i] > max:\n",
        "      max = l[i]\n",
        "  return max\n",
        "\n",
        "# Main part\n",
        "list = [201, 200, 10, 105, 5, 80]\n",
        "result = largest(list)\n",
        "print(\"Largest in the list is : \", result)"
      ],
      "metadata": {
        "colab": {
          "base_uri": "https://localhost:8080/"
        },
        "id": "NvvJWOQrjM4X",
        "outputId": "87ae3eae-04b8-4b79-86aa-591299e4a006"
      },
      "id": "NvvJWOQrjM4X",
      "execution_count": null,
      "outputs": [
        {
          "output_type": "stream",
          "name": "stdout",
          "text": [
            "Largest in the list is :  201\n"
          ]
        }
      ]
    },
    {
      "cell_type": "markdown",
      "source": [
        "## **Prime Numbers**"
      ],
      "metadata": {
        "id": "OA4oUAKqJdSI"
      },
      "id": "OA4oUAKqJdSI"
    },
    {
      "cell_type": "code",
      "source": [
        "\n",
        "num = int(input(\"Give the number :\"))\n",
        "\n",
        "flag = 0\n",
        "if num > 1:\n",
        "  for i in range(2, int(num/2)+1):\n",
        "    if (num % i) == 0:\n",
        "      flag = 1\n",
        "      break\n",
        "\n",
        "if flag == 1:\n",
        "  print(num, \" is not a prime number\")\n",
        "else:\n",
        "  print(num,\" is a prime number\")"
      ],
      "metadata": {
        "id": "HSLlKC-LJhGD",
        "outputId": "b522d859-0ca8-4361-8a54-ce37f36c62da",
        "colab": {
          "base_uri": "https://localhost:8080/"
        }
      },
      "id": "HSLlKC-LJhGD",
      "execution_count": null,
      "outputs": [
        {
          "output_type": "stream",
          "name": "stdout",
          "text": [
            "Give the number :15\n",
            "15  is not a prime number\n"
          ]
        }
      ]
    },
    {
      "cell_type": "code",
      "source": [
        "# Python program to display all the prime numbers within an interval\n",
        "\n",
        "def list_prime(low,upp):\n",
        "  l1=[]\n",
        "  for num in range(low, upp + 1):\n",
        "    if num > 1:\n",
        "      for i in range(2, num):\n",
        "        if (num % i) == 0:\n",
        "          break\n",
        "      else:\n",
        "        l1.append(num)\n",
        "  return l1\n",
        "\n",
        "lower = 900\n",
        "upper = 1000\n",
        "print(list_prime(lower,upper))\n",
        "#print(\"Prime numbers between\", lower, \"and\", upper, \"are:\")"
      ],
      "metadata": {
        "id": "UXekebEgRBrM",
        "outputId": "4af72f76-3532-4553-bb51-4e26cd861373",
        "colab": {
          "base_uri": "https://localhost:8080/"
        }
      },
      "id": "UXekebEgRBrM",
      "execution_count": null,
      "outputs": [
        {
          "output_type": "stream",
          "name": "stdout",
          "text": [
            "[907, 911, 919, 929, 937, 941, 947, 953, 967, 971, 977, 983, 991, 997]\n"
          ]
        }
      ]
    },
    {
      "cell_type": "markdown",
      "id": "1401f511-7a15-43f1-b2e3-2b0e02b5b5d5",
      "metadata": {
        "jp-MarkdownHeadingCollapsed": true,
        "id": "1401f511-7a15-43f1-b2e3-2b0e02b5b5d5"
      },
      "source": [
        "# **Program**\n",
        "## **Monte Carlo Integration**\n",
        "\n",
        "Estimate Integral\n",
        "$$I = \\int^a_b f(x) dx $$\n",
        "\n",
        "If $X$ is a uniformly distributed *random variable* in range $[a,b]$. Then\n",
        "$$ I = (b - a) E[f(x)] $$\n",
        "where $E[f(x)]$ is the expected value of $f(x)$ given as :\n",
        "$$ E[f(x)] = \\frac{1}{n} \\sum_{i=1}^n f(X_i)$$\n",
        "\n",
        "So the approximate value of the integral is :\n",
        "$$ I_n = (b-a) \\frac{1}{n} \\sum_{i=1}^n f(X_i)$$\n"
      ]
    },
    {
      "cell_type": "code",
      "execution_count": null,
      "id": "0a3d2b4d-cd08-4963-a787-58129b2c3b4d",
      "metadata": {
        "colab": {
          "base_uri": "https://localhost:8080/"
        },
        "id": "0a3d2b4d-cd08-4963-a787-58129b2c3b4d",
        "outputId": "951b6350-1c18-4a90-e28b-a50635e23ec7"
      },
      "outputs": [
        {
          "output_type": "stream",
          "name": "stdout",
          "text": [
            "0.2527214271734879\n"
          ]
        }
      ],
      "source": [
        "import random\n",
        "\n",
        "# function definition goes here\n",
        "def f(x, y):\n",
        "  # return function value\n",
        "    return x*y\n",
        "\n",
        "\n",
        "# set x_min, x_max, y_min and y_max for integral interval\n",
        "total = 0.0\n",
        "x_min, x_max = 0, 1\n",
        "y_min, y_max = 0, 1\n",
        "\n",
        "n = 10000\n",
        "\n",
        "# n is the number of points used in Monte Carlo integration\n",
        "for i in range(n):\n",
        "  x = random.uniform(x_min, x_max)\n",
        "  y = random.uniform(y_min, y_max)\n",
        "  total += f(x, y)\n",
        "\n",
        "# estimated integral value\n",
        "est = (1.0/n * total)*((x_max-x_min)*(y_max-y_min))\n",
        "print(est)"
      ]
    },
    {
      "cell_type": "code",
      "execution_count": null,
      "id": "870d2336-67db-42a0-9f58-27fa0d30bdf7",
      "metadata": {
        "colab": {
          "base_uri": "https://localhost:8080/"
        },
        "id": "870d2336-67db-42a0-9f58-27fa0d30bdf7",
        "outputId": "d99c3f74-9d39-4180-e302-9edf1f2a24ab"
      },
      "outputs": [
        {
          "output_type": "stream",
          "name": "stdout",
          "text": [
            "0.33342098482150534\n"
          ]
        }
      ],
      "source": [
        "import random\n",
        "\n",
        "# function definition goes here\n",
        "def f(x):\n",
        "  # return function value\n",
        "    return x**2\n",
        "\n",
        "\n",
        "# set x_min, x_max, y_min and y_max for integral interval\n",
        "total = 0.0\n",
        "x_min, x_max = 0, 1\n",
        "y_min, y_max = 0, 1\n",
        "\n",
        "n = 100000\n",
        "\n",
        "# n is the number of points used in Monte Carlo integration\n",
        "for i in range(n):\n",
        "  x = random.uniform(x_min, x_max)\n",
        "#  y = random.uniform(y_min, y_max)\n",
        "  total += f(x)\n",
        "\n",
        "# estimated integral value\n",
        "est = (1.0/n * total)*((x_max-x_min))\n",
        "print(est)"
      ]
    },
    {
      "cell_type": "markdown",
      "id": "4eb3ee63-614a-4e13-a72d-108a33dd686e",
      "metadata": {
        "id": "4eb3ee63-614a-4e13-a72d-108a33dd686e"
      },
      "source": [
        "## Value of pi"
      ]
    },
    {
      "cell_type": "code",
      "execution_count": null,
      "id": "9d80c536-325a-42c8-ab13-25edd77ba576",
      "metadata": {
        "colab": {
          "base_uri": "https://localhost:8080/",
          "height": 447
        },
        "id": "9d80c536-325a-42c8-ab13-25edd77ba576",
        "outputId": "327961bb-bd73-4fdb-c97a-4aed78fe74fc"
      },
      "outputs": [
        {
          "output_type": "stream",
          "name": "stdout",
          "text": [
            "3.17\n"
          ]
        },
        {
          "output_type": "display_data",
          "data": {
            "text/plain": [
              "<Figure size 640x480 with 1 Axes>"
            ],
            "image/png": "[encoded data removed]"
          },
          "metadata": {}
        }
      ],
      "source": [
        "import random\n",
        "import math\n",
        "import matplotlib.pyplot as plt\n",
        "\n",
        "N = 10000\n",
        "I = 0\n",
        "xx_in,yy_in = [],[]\n",
        "xx_out,yy_out = [],[]\n",
        "for i in range(N):\n",
        "    x = random.uniform(0,1)\n",
        "    y = random.uniform(0,1)\n",
        "    r = math.sqrt(x**2 + y**2)\n",
        "    if r < 1:\n",
        "        I += 1\n",
        "        xx_in.append(x)\n",
        "        yy_in.append(y)\n",
        "    else:\n",
        "        xx_out.append(x)\n",
        "        yy_out.append(y)\n",
        "print(4*I/N)\n",
        "plt.scatter(xx_in,yy_in,s=2)\n",
        "plt.scatter(xx_out,yy_out,s=2)\n",
        "plt.show()"
      ]
    },
    {
      "cell_type": "markdown",
      "id": "3b1588ec-4559-47a5-a0af-d4241fcc4a45",
      "metadata": {
        "id": "3b1588ec-4559-47a5-a0af-d4241fcc4a45"
      },
      "source": [
        "# **Program**\n",
        "## **Projectile Motion**\n",
        "\n",
        "**Given:** : angle ($\\theta$) and velosity ($v$)\n",
        "The range of projectile motion is given to be :\n",
        "$$\n",
        "R = \\frac{v^2 ~ sin(2 \\theta)}{g}\n",
        "$$\n",
        "the maximum height of projectile:\n",
        "$$\n",
        "h = \\frac{v^2 ~ sin^2(\\theta)}{2 ~ g}\n",
        "$$\n",
        "$$\n",
        "y = x ~ tan(\\theta) - \\frac{1}{2} \\frac{g ~ x^2}{v^2 ~ cos^2(\\theta)}\n",
        "$$"
      ]
    },
    {
      "cell_type": "code",
      "execution_count": null,
      "id": "0906fb11-1428-4df9-a9e2-c9867cb76231",
      "metadata": {
        "id": "0906fb11-1428-4df9-a9e2-c9867cb76231",
        "outputId": "a43a69d3-1b57-4389-b9c4-d93addda4246"
      },
      "outputs": [
        {
          "name": "stdin",
          "output_type": "stream",
          "text": [
            "Enter the angle in degrees\n",
            " 30\n",
            "Enter initial velocity in m/s \n",
            " 40\n"
          ]
        },
        {
          "data": {
            "image/png": "[encoded data removed]",
            "text/plain": [
              "<Figure size 432x288 with 1 Axes>"
            ]
          },
          "metadata": {
            "needs_background": "light"
          },
          "output_type": "display_data"
        },
        {
          "name": "stdout",
          "output_type": "stream",
          "text": [
            "  S. No.      x         y     \n",
            "    1        0.0       0.0    \n",
            "    2       7.442      4.07   \n",
            "    3       14.883    7.688   \n",
            "    4       22.325    10.854  \n",
            "    5       29.767    13.568  \n",
            "    6       37.208    15.829  \n",
            "    7       44.65     17.638  \n",
            "    8       52.092    18.995  \n",
            "    9       59.533    19.899  \n",
            "    10      66.975    20.352  \n",
            "    11      74.417    20.352  \n",
            "    12      81.858    19.899  \n",
            "    13       89.3     18.995  \n",
            "    14      96.742    17.638  \n",
            "    15     104.184    15.829  \n",
            "    16     111.625    13.568  \n",
            "    17     119.067    10.854  \n",
            "    18     126.509    7.688   \n",
            "    19      133.95     4.07   \n",
            "    20     141.392     0.0    \n"
          ]
        }
      ],
      "source": [
        "# Importing modules\n",
        "from numpy import *\n",
        "import matplotlib.pyplot as plt\n",
        "\n",
        "alpha=float(input(\"Enter the angle in degrees\\n\"))\n",
        "# converting angle in radians\n",
        "alpha=radians(alpha)\n",
        "\n",
        "# Initial velocity of projectile\n",
        "u=float(input(\"Enter initial velocity in m/s \\n\"))\n",
        "\n",
        "g = 9.8\n",
        "\n",
        "# Evaluating Range\n",
        "R=u**2*sin(2*alpha)/g\n",
        "\n",
        "# Evaluating max height\n",
        "h=u**2*(sin(alpha))**2/(2*g)\n",
        "\n",
        "# Creating array of x with 50 points\n",
        "x=linspace(0, R, 20)\n",
        "\n",
        "# Solving for y\n",
        "y=x*tan(alpha)-(1/2)*(g*x**2)/(u**2*(cos(alpha))**2 )\n",
        "# Data plotting\n",
        "\n",
        "plt.plot(x,y)\n",
        "plt.show()\n",
        "\n",
        "print(f\"{'S. No.':^10}{'x':^10}{'y':^10}\")\n",
        "for i in range(len(x)):\n",
        "   print(f\"{i+1:^10}{round(x[i],3):^10}{round(y[i],3):^10}\")"
      ]
    },
    {
      "cell_type": "code",
      "execution_count": null,
      "id": "c179f37e-5707-451d-b240-efa987668640",
      "metadata": {
        "id": "c179f37e-5707-451d-b240-efa987668640"
      },
      "outputs": [],
      "source": []
    }
  ],
  "metadata": {
    "kernelspec": {
      "display_name": "Python 3 (ipykernel)",
      "language": "python",
      "name": "python3"
    },
    "language_info": {
      "codemirror_mode": {
        "name": "ipython",
        "version": 3
      },
      "file_extension": ".py",
      "mimetype": "text/x-python",
      "name": "python",
      "nbconvert_exporter": "python",
      "pygments_lexer": "ipython3",
      "version": "3.10.12"
    },
    "colab": {
      "provenance": [],
      "include_colab_link": true
    }
  },
  "nbformat": 4,
  "nbformat_minor": 5
}