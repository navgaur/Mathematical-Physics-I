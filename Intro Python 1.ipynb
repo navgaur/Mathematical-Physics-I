{
 "cells": [
  {
   "cell_type": "markdown",
   "id": "a1a7f80b-fd4b-4e96-93cb-3674f44a0760",
   "metadata": {},
   "source": [
    "# **Basic concepts in Python**\n",
    "\n",
    "Why Python :\n",
    "- Excellent data structure \n",
    "- Simple and clean syntax\n",
    "- Possiblity of Object oriented programs\n",
    "- Open source\n",
    "- Interpreter language "
   ]
  },
  {
   "cell_type": "markdown",
   "id": "44d18fb8-ed8b-4412-8c3f-3b9b1c801611",
   "metadata": {
    "jp-MarkdownHeadingCollapsed": true,
    "tags": []
   },
   "source": [
    "## Variables, Operators\n",
    "\n",
    "Variables \n",
    "- Integer \n",
    "- Float\n",
    "- Complex \n",
    "\n",
    "Mathematical Operators \n",
    "- Addition (+)\n",
    "- Substraction (-)\n",
    "- Multiplication (*) \n",
    "- Division (/) \n",
    "- Modulo (%) \n",
    "- Power (**) \n",
    "- Floor Division (//) \n",
    "\n",
    "Comparison Operators:\n",
    "- Equal to (==) \n",
    "- Not Equal to (!=)\n",
    "- Less than and Greater than (<>)\n",
    "- Less than equal to (<=)\n",
    "- Greater than equal to (>=)\n",
    "\n",
    "Membership Operators:\n",
    "- in \n",
    "- not \n",
    "- as "
   ]
  },
  {
   "cell_type": "code",
   "execution_count": 1,
   "id": "b85b10a1-f49e-4770-9fa0-04d599569a37",
   "metadata": {},
   "outputs": [
    {
     "name": "stdout",
     "output_type": "stream",
     "text": [
      "Hello Welcome\n"
     ]
    }
   ],
   "source": [
    "print(\"Hello Welcome\")"
   ]
  },
  {
   "cell_type": "code",
   "execution_count": 2,
   "id": "7245d20c-ba2d-4f30-b09f-9345163e634c",
   "metadata": {},
   "outputs": [
    {
     "data": {
      "text/plain": [
       "'Hello'"
      ]
     },
     "execution_count": 2,
     "metadata": {},
     "output_type": "execute_result"
    }
   ],
   "source": [
    "'Hello'"
   ]
  },
  {
   "cell_type": "code",
   "execution_count": 5,
   "id": "8f8e1210-6c24-412a-9d8b-a573640a23b8",
   "metadata": {},
   "outputs": [
    {
     "data": {
      "text/plain": [
       "\"Hello it's working\""
      ]
     },
     "execution_count": 5,
     "metadata": {},
     "output_type": "execute_result"
    }
   ],
   "source": [
    "\"\"\"Hello it\\'s working\"\"\""
   ]
  },
  {
   "cell_type": "code",
   "execution_count": 10,
   "id": "d5e06e42-72d9-4355-871b-7e23de4760d9",
   "metadata": {},
   "outputs": [
    {
     "name": "stdout",
     "output_type": "stream",
     "text": [
      "I want to learn Python.\n",
      "Is this going to work\n",
      "on multiple lines.\n"
     ]
    }
   ],
   "source": [
    "print(\"\"\"I want to learn Python.\n",
    "Is this going to work\n",
    "on multiple lines.\"\"\") "
   ]
  },
  {
   "cell_type": "code",
   "execution_count": 11,
   "id": "9d0c2180-84d7-4f4f-ab75-24e587720ffa",
   "metadata": {},
   "outputs": [
    {
     "data": {
      "text/plain": [
       "'I want to learn Python.\\nIs this going to work\\non multiple lines.'"
      ]
     },
     "execution_count": 11,
     "metadata": {},
     "output_type": "execute_result"
    }
   ],
   "source": [
    "\"\"\"I want to learn Python.\n",
    "Is this going to work\n",
    "on multiple lines.\"\"\""
   ]
  },
  {
   "cell_type": "code",
   "execution_count": 13,
   "id": "6441eb27-c66b-4984-a040-db14e7dde22f",
   "metadata": {},
   "outputs": [
    {
     "name": "stdout",
     "output_type": "stream",
     "text": [
      "\t I am starting with Python. \n",
      " This should be next line\n"
     ]
    }
   ],
   "source": [
    "print(\"\"\"\\t I am starting with Python. \\n This should be next line\"\"\")"
   ]
  },
  {
   "cell_type": "markdown",
   "id": "69423f3d-1d01-4d61-8372-3c33d2b5c81f",
   "metadata": {
    "jp-MarkdownHeadingCollapsed": true,
    "tags": []
   },
   "source": [
    "## Namespace (variables)"
   ]
  },
  {
   "cell_type": "code",
   "execution_count": 14,
   "id": "ba06d279-a3ad-4869-a02a-a4ab95ed41df",
   "metadata": {},
   "outputs": [],
   "source": [
    "x = 2\n",
    "y = 4"
   ]
  },
  {
   "cell_type": "code",
   "execution_count": 4,
   "id": "fb32e43e-b7b6-4dba-83c6-8b3697d28237",
   "metadata": {},
   "outputs": [
    {
     "name": "stdout",
     "output_type": "stream",
     "text": [
      "Name\n"
     ]
    }
   ],
   "source": [
    "y=\"Name\"\n",
    "print(y) "
   ]
  },
  {
   "cell_type": "code",
   "execution_count": 7,
   "id": "b72ce6c1-fe6b-4b30-816b-2641435529c3",
   "metadata": {},
   "outputs": [
    {
     "name": "stdout",
     "output_type": "stream",
     "text": [
      "My Name is\n"
     ]
    }
   ],
   "source": [
    "xx,yy,zz = \"My\", \"Name\", \"is\"\n",
    "print(xx,yy,zz) "
   ]
  },
  {
   "cell_type": "code",
   "execution_count": 8,
   "id": "64db45b7-f7d2-43af-9806-fb5cd6915c47",
   "metadata": {},
   "outputs": [
    {
     "name": "stdout",
     "output_type": "stream",
     "text": [
      "apple banana grapes\n"
     ]
    }
   ],
   "source": [
    "fruits = [\"apple\",\"banana\",\"grapes\"] \n",
    "x,y,z=fruits \n",
    "print(x,y,z) "
   ]
  },
  {
   "cell_type": "markdown",
   "id": "7db0ffb3-11d3-4a87-ba8e-78f4ac22fe62",
   "metadata": {
    "jp-MarkdownHeadingCollapsed": true,
    "tags": []
   },
   "source": [
    "## Python as calculator"
   ]
  },
  {
   "cell_type": "code",
   "execution_count": 15,
   "id": "fc495979-c92b-45cb-a65b-ddf1fc3c4236",
   "metadata": {},
   "outputs": [
    {
     "data": {
      "text/plain": [
       "3.2"
      ]
     },
     "execution_count": 15,
     "metadata": {},
     "output_type": "execute_result"
    }
   ],
   "source": [
    "2+1.2"
   ]
  },
  {
   "cell_type": "code",
   "execution_count": 16,
   "id": "2e4135cb-8140-41c6-a307-9cf9fe5afb34",
   "metadata": {},
   "outputs": [
    {
     "data": {
      "text/plain": [
       "3.0"
      ]
     },
     "execution_count": 16,
     "metadata": {},
     "output_type": "execute_result"
    }
   ],
   "source": [
    "18.2//5"
   ]
  },
  {
   "cell_type": "code",
   "execution_count": 17,
   "id": "696dc714-159d-43a6-8ceb-e7fdb0fdebbf",
   "metadata": {},
   "outputs": [
    {
     "data": {
      "text/plain": [
       "3.1999999999999993"
      ]
     },
     "execution_count": 17,
     "metadata": {},
     "output_type": "execute_result"
    }
   ],
   "source": [
    "18.2%5"
   ]
  },
  {
   "cell_type": "markdown",
   "id": "466b958e-7efc-457c-aca4-77d0ae636f92",
   "metadata": {
    "jp-MarkdownHeadingCollapsed": true,
    "tags": []
   },
   "source": [
    "## Complex Numbers "
   ]
  },
  {
   "cell_type": "code",
   "execution_count": 19,
   "id": "8c166a5b-778b-455d-8418-95b111bd90a0",
   "metadata": {},
   "outputs": [],
   "source": [
    "z1 = 1 + 2j"
   ]
  },
  {
   "cell_type": "code",
   "execution_count": 20,
   "id": "55ac9cd9-831b-4898-a541-1a510260839a",
   "metadata": {},
   "outputs": [],
   "source": [
    "z2 = 2 + 3j"
   ]
  },
  {
   "cell_type": "code",
   "execution_count": 21,
   "id": "2091d2b0-b506-4df9-a022-36f9ad7e0470",
   "metadata": {},
   "outputs": [
    {
     "data": {
      "text/plain": [
       "(2+4j)"
      ]
     },
     "execution_count": 21,
     "metadata": {},
     "output_type": "execute_result"
    }
   ],
   "source": [
    "z1 + z1"
   ]
  },
  {
   "cell_type": "markdown",
   "id": "d3b31bc9-4848-4a5e-b36e-df3ac610b8ea",
   "metadata": {
    "jp-MarkdownHeadingCollapsed": true,
    "tags": []
   },
   "source": [
    "## Boolean Numbers"
   ]
  },
  {
   "cell_type": "code",
   "execution_count": 22,
   "id": "662562aa-6c69-4f23-ad21-69ae43d5759b",
   "metadata": {},
   "outputs": [
    {
     "data": {
      "text/plain": [
       "2"
      ]
     },
     "execution_count": 22,
     "metadata": {},
     "output_type": "execute_result"
    }
   ],
   "source": [
    "True + True"
   ]
  },
  {
   "cell_type": "code",
   "execution_count": 23,
   "id": "49d4ca46-afc5-4bf9-9662-c202e4af532e",
   "metadata": {},
   "outputs": [
    {
     "data": {
      "text/plain": [
       "1"
      ]
     },
     "execution_count": 23,
     "metadata": {},
     "output_type": "execute_result"
    }
   ],
   "source": [
    "True + False"
   ]
  },
  {
   "cell_type": "code",
   "execution_count": 24,
   "id": "b9169fa5-a822-4438-90da-b2abb976fc04",
   "metadata": {},
   "outputs": [
    {
     "data": {
      "text/plain": [
       "0"
      ]
     },
     "execution_count": 24,
     "metadata": {},
     "output_type": "execute_result"
    }
   ],
   "source": [
    "True * False"
   ]
  },
  {
   "cell_type": "markdown",
   "id": "39abf052-13fe-4428-b951-d0223c9c1534",
   "metadata": {
    "jp-MarkdownHeadingCollapsed": true,
    "tags": []
   },
   "source": [
    "## Comparison "
   ]
  },
  {
   "cell_type": "code",
   "execution_count": 25,
   "id": "d02b438c-8801-46ec-b881-6c876cb7f108",
   "metadata": {},
   "outputs": [
    {
     "data": {
      "text/plain": [
       "False"
      ]
     },
     "execution_count": 25,
     "metadata": {},
     "output_type": "execute_result"
    }
   ],
   "source": [
    "2 > 3"
   ]
  },
  {
   "cell_type": "code",
   "execution_count": 26,
   "id": "bc6088e2-0726-4b90-99ba-6b5069765413",
   "metadata": {},
   "outputs": [
    {
     "data": {
      "text/plain": [
       "False"
      ]
     },
     "execution_count": 26,
     "metadata": {},
     "output_type": "execute_result"
    }
   ],
   "source": [
    "6 == 8"
   ]
  },
  {
   "cell_type": "code",
   "execution_count": 27,
   "id": "71184ef6-2393-4901-b759-22957d3ba43d",
   "metadata": {},
   "outputs": [
    {
     "data": {
      "text/plain": [
       "True"
      ]
     },
     "execution_count": 27,
     "metadata": {},
     "output_type": "execute_result"
    }
   ],
   "source": [
    "10%3 == 1"
   ]
  },
  {
   "cell_type": "markdown",
   "id": "3681a45c-547c-4c44-8baa-b1dfbd573a4b",
   "metadata": {
    "jp-MarkdownHeadingCollapsed": true,
    "tags": []
   },
   "source": [
    "## Types and Identiry of objects "
   ]
  },
  {
   "cell_type": "code",
   "execution_count": 28,
   "id": "752d09f9-49a3-4f59-8d03-bb3aaf1c16e5",
   "metadata": {},
   "outputs": [
    {
     "data": {
      "text/plain": [
       "int"
      ]
     },
     "execution_count": 28,
     "metadata": {},
     "output_type": "execute_result"
    }
   ],
   "source": [
    "type(5)"
   ]
  },
  {
   "cell_type": "code",
   "execution_count": 29,
   "id": "111d9740-58cf-498d-aa74-2aa26f7c352c",
   "metadata": {},
   "outputs": [
    {
     "data": {
      "text/plain": [
       "float"
      ]
     },
     "execution_count": 29,
     "metadata": {},
     "output_type": "execute_result"
    }
   ],
   "source": [
    "type(1.2) "
   ]
  },
  {
   "cell_type": "code",
   "execution_count": 30,
   "id": "9db5da9f-5b19-4daa-a2f8-93664396a51b",
   "metadata": {},
   "outputs": [
    {
     "data": {
      "text/plain": [
       "complex"
      ]
     },
     "execution_count": 30,
     "metadata": {},
     "output_type": "execute_result"
    }
   ],
   "source": [
    "type(1+2j) "
   ]
  },
  {
   "cell_type": "code",
   "execution_count": 33,
   "id": "b2d52e0f-4e82-434b-9974-31645114ecab",
   "metadata": {},
   "outputs": [
    {
     "data": {
      "text/plain": [
       "str"
      ]
     },
     "execution_count": 33,
     "metadata": {},
     "output_type": "execute_result"
    }
   ],
   "source": [
    "type (\"Something\") "
   ]
  },
  {
   "cell_type": "code",
   "execution_count": 34,
   "id": "c0538d1b-374d-499e-bca7-a6a97e8bf818",
   "metadata": {},
   "outputs": [
    {
     "data": {
      "text/plain": [
       "bool"
      ]
     },
     "execution_count": 34,
     "metadata": {},
     "output_type": "execute_result"
    }
   ],
   "source": [
    "type(True) "
   ]
  },
  {
   "cell_type": "markdown",
   "id": "858b4826-87a4-46d1-bc81-cfe2fa42e3d8",
   "metadata": {
    "jp-MarkdownHeadingCollapsed": true,
    "tags": []
   },
   "source": [
    "## Indentation "
   ]
  },
  {
   "cell_type": "code",
   "execution_count": 3,
   "id": "39201005-0ef3-4357-8662-048439297a64",
   "metadata": {},
   "outputs": [
    {
     "name": "stdout",
     "output_type": "stream",
     "text": [
      "5 is greater than 2\n"
     ]
    }
   ],
   "source": [
    "if 5>2:\n",
    "    print(\"5 is greater than 2\") "
   ]
  },
  {
   "cell_type": "markdown",
   "id": "d1a14f16-aec1-4c56-ac3d-e301b072ca47",
   "metadata": {
    "tags": []
   },
   "source": [
    "## Casting"
   ]
  },
  {
   "cell_type": "code",
   "execution_count": 6,
   "id": "1bf6c2d9-d657-4cf6-87a8-e2d3d9ff9758",
   "metadata": {},
   "outputs": [
    {
     "name": "stdout",
     "output_type": "stream",
     "text": [
      "3 3 3.0\n",
      "<class 'str'> <class 'int'> <class 'float'>\n"
     ]
    }
   ],
   "source": [
    "x = str(3)\n",
    "y = int(3)\n",
    "z = float(3)\n",
    "print(x,y,z) \n",
    "print(type(x),type(y),type(z)) "
   ]
  },
  {
   "cell_type": "markdown",
   "id": "b2942e7e-76aa-4753-bb58-342901812334",
   "metadata": {},
   "source": [
    "---\n",
    "# **Control Structures** \n",
    "- if, if-else, if-elif-else \n",
    "- while \n",
    "- for "
   ]
  },
  {
   "cell_type": "code",
   "execution_count": 1,
   "id": "a92a56fb-e88e-437d-a16e-b3d40b091b39",
   "metadata": {},
   "outputs": [
    {
     "name": "stdout",
     "output_type": "stream",
     "text": [
      "apple banana grapes\n"
     ]
    }
   ],
   "source": [
    "fruits = [\"apple\",\"banana\",\"grapes\"] \n",
    "x,y,z=fruits \n",
    "print(x,y,z) "
   ]
  },
  {
   "cell_type": "code",
   "execution_count": 2,
   "id": "c5dc4ea8-026a-49c1-88ff-5ead1868d34b",
   "metadata": {},
   "outputs": [
    {
     "name": "stdout",
     "output_type": "stream",
     "text": [
      "b is greater than a\n"
     ]
    }
   ],
   "source": [
    "a = 33\n",
    "b = 200\n",
    "if b > a:\n",
    "  print(\"b is greater than a\")"
   ]
  },
  {
   "cell_type": "code",
   "execution_count": null,
   "id": "6f30c8ca-9f30-480b-a1eb-1d217b3248db",
   "metadata": {},
   "outputs": [],
   "source": [
    "a = 33\n",
    "b = 33\n",
    "if b > a:\n",
    "  print(\"b is greater than a\")\n",
    "elif a == b:\n",
    "  print(\"a and b are equal\")"
   ]
  },
  {
   "cell_type": "code",
   "execution_count": 3,
   "id": "4ccbbc85-d1ac-4885-a6a5-c27a08a757be",
   "metadata": {},
   "outputs": [
    {
     "name": "stdout",
     "output_type": "stream",
     "text": [
      "1\n",
      "2\n",
      "3\n",
      "4\n",
      "5\n"
     ]
    }
   ],
   "source": [
    "i = 1\n",
    "while i < 6:\n",
    "  print(i)\n",
    "  i += 1"
   ]
  },
  {
   "cell_type": "code",
   "execution_count": 4,
   "id": "d551e871-44c7-412e-8a8d-555b2eea76c7",
   "metadata": {},
   "outputs": [
    {
     "name": "stdout",
     "output_type": "stream",
     "text": [
      "apple\n",
      "banana\n",
      "cherry\n"
     ]
    }
   ],
   "source": [
    "fruits = [\"apple\", \"banana\", \"cherry\"]\n",
    "for x in fruits:\n",
    "  print(x)"
   ]
  },
  {
   "cell_type": "code",
   "execution_count": 7,
   "id": "fc8a3725-82ed-42d9-83e5-84241068e83f",
   "metadata": {},
   "outputs": [
    {
     "name": "stdout",
     "output_type": "stream",
     "text": [
      "apple\n"
     ]
    }
   ],
   "source": [
    "fruits = [\"apple\", \"banana\", \"cherry\"]\n",
    "for x in fruits:\n",
    "    if x == \"banana\":\n",
    "        break \n",
    "    print(x)"
   ]
  },
  {
   "cell_type": "markdown",
   "id": "6ef47445-eead-4b7c-a891-9acd8f00d01f",
   "metadata": {},
   "source": [
    "### Continue and Pass \n",
    "continue: forces the loop to start at the next iteration \n",
    "pass: means \"there is no code to execute here\" and \n",
    "      will continue through the remainder of the loop body."
   ]
  },
  {
   "cell_type": "code",
   "execution_count": 8,
   "id": "afa9421f-eda4-45af-a7d2-69bb4f400a56",
   "metadata": {},
   "outputs": [
    {
     "name": "stdout",
     "output_type": "stream",
     "text": [
      "apple\n",
      "cherry\n"
     ]
    }
   ],
   "source": [
    "fruits = [\"apple\", \"banana\", \"cherry\"]\n",
    "for x in fruits:\n",
    "    if x == \"banana\":\n",
    "        continue  \n",
    "    print(x)"
   ]
  },
  {
   "cell_type": "code",
   "execution_count": 9,
   "id": "024ebc21-f5c5-4789-a868-31723f309212",
   "metadata": {},
   "outputs": [
    {
     "name": "stdout",
     "output_type": "stream",
     "text": [
      "apple\n",
      "banana\n",
      "cherry\n"
     ]
    }
   ],
   "source": [
    "fruits = [\"apple\", \"banana\", \"cherry\"]\n",
    "for x in fruits:\n",
    "    if x == \"banana\":\n",
    "        pass \n",
    "    print(x)"
   ]
  },
  {
   "cell_type": "markdown",
   "id": "b949327e-ef2d-4c8f-a491-8c36de405219",
   "metadata": {
    "tags": []
   },
   "source": [
    "--- \n",
    "## Lists \n",
    "\n",
    "- Used to store multiple variables in a single variable\n",
    "- Can be modified, added etc. \n",
    "- defined by square brackets"
   ]
  },
  {
   "cell_type": "code",
   "execution_count": 21,
   "id": "f82e1dd8-0e81-4b6c-9cac-443e9104cd13",
   "metadata": {},
   "outputs": [
    {
     "name": "stdout",
     "output_type": "stream",
     "text": [
      "['banana', 'apple', 'orange']\n",
      "3\n",
      "orange orange\n",
      "['banana', 'apple', 'orange', 'grapes', 'melon', 'papaya']\n",
      "['orange', 'grapes', 'melon']\n"
     ]
    }
   ],
   "source": [
    "fruits1 = [\"banana\",\"apple\",\"orange\"]\n",
    "fruits2 = [\"grapes\",\"melon\",\"papaya\"] \n",
    "print(fruits1) \n",
    "print(len(fruits1)) \n",
    "print(fruits1[2],fruits1[-1]) \n",
    "fruits_sum=fruits1+fruits2\n",
    "print(fruits_sum) \n",
    "print(fruits_sum[2:5]) "
   ]
  },
  {
   "cell_type": "code",
   "execution_count": 28,
   "id": "fd8a56c2-d232-41a4-a977-2d109ce88c8b",
   "metadata": {},
   "outputs": [
    {
     "name": "stdout",
     "output_type": "stream",
     "text": [
      "['banana', 'apple', 'orange', 'cherry']\n",
      "['banana', 'apple', 'cherry']\n",
      "['banana', 'cherry']\n"
     ]
    }
   ],
   "source": [
    "fruits1 = [\"banana\",\"apple\",\"orange\"]\n",
    "fruits1.append(\"cherry\") \n",
    "print(fruits1) \n",
    "fruits1.remove(\"orange\")\n",
    "print(fruits1) \n",
    "fruits1.pop(1) \n",
    "print(fruits1) "
   ]
  },
  {
   "cell_type": "code",
   "execution_count": 51,
   "id": "1031ef43-a23d-43df-8630-da22e1b4c0d3",
   "metadata": {},
   "outputs": [
    {
     "name": "stdout",
     "output_type": "stream",
     "text": [
      "banana\n",
      "apple\n",
      "orange\n",
      "grapes\n"
     ]
    }
   ],
   "source": [
    "fruits1 = [\"banana\",\"apple\",\"orange\"]\n",
    "fruits2 = [\"grapes\",\"melon\",\"papaya\"] \n",
    "fruits_sum1=fruits1+fruits2\n",
    "for x in fruits_sum1:\n",
    "    if x == \"melon\":\n",
    "        break \n",
    "    print(x) "
   ]
  },
  {
   "cell_type": "code",
   "execution_count": 52,
   "id": "fdbf3e88-3b93-4eba-9b74-5a371aa33af7",
   "metadata": {},
   "outputs": [
    {
     "name": "stdout",
     "output_type": "stream",
     "text": [
      "['banana', 'apple', 'orange']\n",
      "['banana', 'apple']\n"
     ]
    }
   ],
   "source": [
    "#fruits1.remove(\"apple\")\n",
    "#print(fruits1) \n",
    "print(fruits1) \n",
    "fruits1.pop(2)\n",
    "print(fruits1) "
   ]
  },
  {
   "cell_type": "markdown",
   "id": "4e35a5a7-9f41-470a-8350-3dbc865c4564",
   "metadata": {},
   "source": [
    "### Continue vs Pass \n",
    "\n",
    "**Continue** forces the loop to start at the next iteration \n",
    "\n",
    "**Pass** means \"there is no code to execute here\" and will continue through the remainder of the loop body."
   ]
  },
  {
   "cell_type": "code",
   "execution_count": 37,
   "id": "672a5511-b12f-49aa-93ba-7f008eec6779",
   "metadata": {},
   "outputs": [
    {
     "name": "stdout",
     "output_type": "stream",
     "text": [
      "banana\n",
      "apple\n",
      "orange\n",
      "grapes\n",
      "papaya\n"
     ]
    }
   ],
   "source": [
    "fruits1 = [\"banana\",\"apple\",\"orange\"]\n",
    "fruits2 = [\"grapes\",\"melon\",\"papaya\"] \n",
    "fruits_sum1=fruits1+fruits2\n",
    "for x in fruits_sum1:\n",
    "    if x == \"melon\":\n",
    "        continue \n",
    "    print(x) "
   ]
  },
  {
   "cell_type": "code",
   "execution_count": 38,
   "id": "40209b85-7da2-4f66-8112-0fb48ffd8324",
   "metadata": {},
   "outputs": [
    {
     "name": "stdout",
     "output_type": "stream",
     "text": [
      "banana\n",
      "apple\n",
      "orange\n",
      "grapes\n",
      "melon\n",
      "papaya\n"
     ]
    }
   ],
   "source": [
    "fruits1 = [\"banana\",\"apple\",\"orange\"]\n",
    "fruits2 = [\"grapes\",\"melon\",\"papaya\"] \n",
    "fruits_sum1=fruits1+fruits2\n",
    "for x in fruits_sum1:\n",
    "    if x == \"melon\":\n",
    "        pass \n",
    "    print(x) "
   ]
  },
  {
   "cell_type": "code",
   "execution_count": 31,
   "id": "a5e9acec-1786-433f-a83a-f44c018f5041",
   "metadata": {},
   "outputs": [
    {
     "name": "stdout",
     "output_type": "stream",
     "text": [
      "0\n",
      "1\n",
      "2\n",
      "3\n",
      "4\n",
      "5\n"
     ]
    }
   ],
   "source": [
    "fruits1 = [\"banana\",\"apple\",\"orange\"]\n",
    "fruits2 = [\"grapes\",\"melon\",\"papaya\"] \n",
    "fruits_sum1=fruits1+fruits2\n",
    "i = 0 \n",
    "while i < len(fruits_sum1):\n",
    "    print(i) \n",
    "    i = i+1 "
   ]
  },
  {
   "cell_type": "code",
   "execution_count": 32,
   "id": "23082e1d-71ba-4de0-a465-203d677f57df",
   "metadata": {},
   "outputs": [
    {
     "name": "stdout",
     "output_type": "stream",
     "text": [
      "['apple', 'banana', 'grapes', 'melon', 'orange', 'papaya']\n"
     ]
    }
   ],
   "source": [
    "fruits1 = [\"banana\",\"apple\",\"orange\"]\n",
    "fruits2 = [\"grapes\",\"melon\",\"papaya\"] \n",
    "fruits_sum1=fruits1+fruits2\n",
    "fruits_sum1.sort()\n",
    "print(fruits_sum1) "
   ]
  },
  {
   "cell_type": "code",
   "execution_count": 34,
   "id": "f4e6799a-c4da-46c7-b1e2-e4408a4a6918",
   "metadata": {},
   "outputs": [
    {
     "name": "stdout",
     "output_type": "stream",
     "text": [
      "2\n",
      "3\n",
      "4\n",
      "5\n"
     ]
    }
   ],
   "source": [
    "for x in range(2, 6):\n",
    "  print(x)"
   ]
  },
  {
   "cell_type": "code",
   "execution_count": 35,
   "id": "66762767-5b7d-4a25-aaa5-c330deb451e7",
   "metadata": {},
   "outputs": [
    {
     "name": "stdout",
     "output_type": "stream",
     "text": [
      "2\n",
      "5\n",
      "8\n",
      "11\n",
      "14\n",
      "17\n",
      "20\n",
      "23\n",
      "26\n",
      "29\n"
     ]
    }
   ],
   "source": [
    "for x in range(2, 30, 3):\n",
    "  print(x)"
   ]
  },
  {
   "cell_type": "markdown",
   "id": "44d27024-b5e6-453b-8124-ff3c2bf02f9e",
   "metadata": {
    "jp-MarkdownHeadingCollapsed": true,
    "tags": []
   },
   "source": [
    "--- \n",
    "## Tuples\n",
    "- Used to store multiple variables in a single variable \n",
    "- Are unchangable \n",
    "- defined with round brackets "
   ]
  },
  {
   "cell_type": "code",
   "execution_count": 58,
   "id": "333bfa7a-2d8f-42a8-b668-048caefec854",
   "metadata": {},
   "outputs": [
    {
     "name": "stdout",
     "output_type": "stream",
     "text": [
      "apple\n",
      "('banana', 'apple', 'grapes', 'melon', 'oranges', 'blueberry')\n",
      "('grapes', 'melon')\n",
      "('oranges', 'blueberry')\n"
     ]
    }
   ],
   "source": [
    "tup1 = (\"banana\",\"apple\",\"grapes\")\n",
    "print(tup1[1])\n",
    "tup2 = (\"melon\",\"oranges\",\"blueberry\")\n",
    "sum_tup=tup1+tup2\n",
    "print(sum_tup) \n",
    "print(sum_tup[2:4])\n",
    "print(sum_tup[-2:]) "
   ]
  },
  {
   "cell_type": "markdown",
   "id": "ae179977-696f-43d6-9c58-49f4acf72033",
   "metadata": {},
   "source": [
    "--- \n",
    "## Dictionary \n",
    "\n",
    "- Dictionaries are used to store data values in *key:value* pairs\n",
    "- they are ordered and do not allow duplicacy \n",
    "- defined by curly braces \n"
   ]
  },
  {
   "cell_type": "code",
   "execution_count": 10,
   "id": "bd153e08-26d5-4433-962f-09d1f6528347",
   "metadata": {},
   "outputs": [
    {
     "name": "stdout",
     "output_type": "stream",
     "text": [
      "{'Fruits': ['apple', 'banana', 'orange'], 'Dairy': ['milk', 'butter', 'cheese'], 'staples': ['rice', 'wheat']} 3\n",
      "['milk', 'butter', 'cheese']\n",
      "dict_keys(['Fruits', 'Dairy', 'staples']) dict_values([['apple', 'banana', 'orange'], ['milk', 'butter', 'cheese'], ['rice', 'wheat']])\n",
      "dict_items([('Fruits', ['apple', 'banana', 'orange']), ('Dairy', ['milk', 'butter', 'cheese']), ('staples', ['rice', 'wheat'])])\n"
     ]
    }
   ],
   "source": [
    "Grocery = {\n",
    "    \"Fruits\": [\"apple\",\"banana\",\"orange\"],\n",
    "    \"Dairy\" : [\"milk\",\"butter\",\"cheese\"],\n",
    "    \"staples\" : [\"rice\",\"wheat\"],\n",
    "}\n",
    "type(Grocery)\n",
    "print(Grocery, len(Grocery)) \n",
    "print(Grocery[\"Dairy\"]) \n",
    "print(Grocery.keys(),Grocery.values()) \n",
    "x=Grocery.items() \n",
    "print(x) "
   ]
  },
  {
   "cell_type": "markdown",
   "id": "10a0d037-20ab-4af9-aca5-8bf975b6e272",
   "metadata": {},
   "source": [
    "--- \n",
    "## Numpy \n",
    "\n",
    "Numerical Python \n",
    "\n",
    "- Python librry for working with arrays. \n",
    "- Has builtin functions for linear algebra, fourier transform and matrices\n",
    "\n",
    "**Data type in Numpy** \n",
    "\n",
    "- boolean\n",
    "- unsigned integer\n",
    "- float\n",
    "- complex float\n",
    "- timedelta\n",
    "- datetime\n",
    "- object\n",
    "- string\n",
    "- unicode string\n",
    "- fixed chunk of memory of other type (void)\n"
   ]
  },
  {
   "cell_type": "markdown",
   "id": "938c8d50-ee26-4e92-87c5-ff9ddf3abe65",
   "metadata": {},
   "source": [
    "**Difference between lists and numpy arrays** \n",
    "\n",
    "- Numpy arrays are much faster to process, they have many more utilities.\n",
    "- Numpy arrays are homogeneous whereas list can have mixtures.\n",
    "- Element wise operations possible with Numpy arrays, not possible with lists\n",
    "- Elements are stored contiguously in memory, not necessarily the case with lists "
   ]
  },
  {
   "cell_type": "code",
   "execution_count": 1,
   "id": "907cbf2e-aaff-47f5-aac7-f071a75f5745",
   "metadata": {},
   "outputs": [
    {
     "name": "stdout",
     "output_type": "stream",
     "text": [
      "[[1 2 3]\n",
      " [4 5 6]\n",
      " [7 8 9]] (3, 3)\n",
      "[[ 4  5  6]\n",
      " [ 7  8  9]\n",
      " [10 11 12]]\n",
      "[[ 3  6  9]\n",
      " [12 15 18]\n",
      " [21 24 27]]\n",
      "[0 1 2 3 4]\n",
      "0\n",
      "1\n",
      "2\n",
      "3\n",
      "4\n",
      "<class 'numpy.ndarray'>\n"
     ]
    }
   ],
   "source": [
    "import numpy as np\n",
    "\n",
    "a = np.array([(1,2,3),(4,5,6),(7,8,9)]) \n",
    "print(a, a.shape)\n",
    "print(a+3)\n",
    "print(3*a) \n",
    "b = np.arange(5)\n",
    "print(b) \n",
    "for x in b:\n",
    "    print(x) \n",
    "print(type(a)) "
   ]
  },
  {
   "cell_type": "markdown",
   "id": "caa47e95-5eba-4322-8b87-f99392d24b57",
   "metadata": {},
   "source": [
    "*Copy vs View* "
   ]
  },
  {
   "cell_type": "code",
   "execution_count": 13,
   "id": "40507323-4f67-4058-8842-62a02ab4839e",
   "metadata": {},
   "outputs": [
    {
     "name": "stdout",
     "output_type": "stream",
     "text": [
      "[ 0 10  2  3  4  5] [0 1 2 3 4 5]\n",
      "[ 0 20  2  3  4  5] [ 0 20  2  3  4  5]\n",
      "[[ 0 20  2]\n",
      " [ 3  4  5]]\n",
      "Iter: [ 0 20  2]\n",
      "Iter: [3 4 5]\n",
      "Iter: 0\n",
      "Iter: 20\n",
      "Iter: 2\n",
      "Iter: 3\n",
      "Iter: 4\n",
      "Iter: 5\n"
     ]
    }
   ],
   "source": [
    "arr1 = np.array([0,1,2,3,4,5])\n",
    "x = arr1.copy()\n",
    "arr1[1] = 10\n",
    "print(arr1, x) \n",
    "\n",
    "y = arr1.view()\n",
    "arr1[1] = 20\n",
    "print(arr1,y) \n",
    "\n",
    "arr2=arr1.reshape(2,3) \n",
    "print(arr2) \n",
    "\n",
    "for i in arr2:\n",
    "    print(\"Iter:\", i) \n",
    "\n",
    "for i in arr2:\n",
    "    for j in i:\n",
    "        print(\"Iter:\", j) "
   ]
  },
  {
   "cell_type": "code",
   "execution_count": 16,
   "id": "37d35aff-5648-4bb9-9b06-4d23315310bc",
   "metadata": {},
   "outputs": [
    {
     "name": "stdout",
     "output_type": "stream",
     "text": [
      "[  0   3  10  21 100]\n",
      "[[ 0  2 20]\n",
      " [ 3  4  5]]\n"
     ]
    }
   ],
   "source": [
    "arr1=np.array([10,3,0,100,21])\n",
    "print(np.sort(arr1)) \n",
    "print(np.sort(arr2))  "
   ]
  },
  {
   "cell_type": "markdown",
   "id": "2e49dcea-2c0a-4005-9c59-8679bd020303",
   "metadata": {},
   "source": [
    "**Random numbers in Numpy** "
   ]
  },
  {
   "cell_type": "code",
   "execution_count": 20,
   "id": "232a9dd8-6a37-434d-adfc-0e1cbef70122",
   "metadata": {},
   "outputs": [
    {
     "name": "stdout",
     "output_type": "stream",
     "text": [
      "2 0.4224242494833763\n"
     ]
    }
   ],
   "source": [
    "from numpy import random \n",
    "x = random.randint(10)\n",
    "y = random.rand() \n",
    "print(x,y) "
   ]
  },
  {
   "cell_type": "code",
   "execution_count": 25,
   "id": "10f10af2-8a54-47fd-a99a-43b49c9ea8cd",
   "metadata": {},
   "outputs": [
    {
     "name": "stdout",
     "output_type": "stream",
     "text": [
      "[[ 0.54893109  0.59697772  1.31326278]\n",
      " [-1.01179039 -0.2313002  -0.24103264]]\n"
     ]
    }
   ],
   "source": [
    "x = random.normal(size=(2,3))\n",
    "print(x) "
   ]
  },
  {
   "cell_type": "markdown",
   "id": "c76c0f58-5cab-4ce9-906e-97ba997527ff",
   "metadata": {},
   "source": [
    "**Permutation of arrays** "
   ]
  },
  {
   "cell_type": "code",
   "execution_count": 23,
   "id": "040a55ba-6ad2-42fc-b736-b2b2a8e9e3cf",
   "metadata": {},
   "outputs": [
    {
     "name": "stdout",
     "output_type": "stream",
     "text": [
      "[1 4 5 3 2]\n"
     ]
    }
   ],
   "source": [
    "from numpy import random \n",
    "import numpy as np \n",
    "\n",
    "arr = np.array([1,2,3,4,5]) \n",
    "print(random.permutation(arr)) "
   ]
  },
  {
   "cell_type": "markdown",
   "id": "29ec0aed-0a3d-4b02-8369-12592e22c86b",
   "metadata": {},
   "source": [
    "--- \n",
    "## Functions"
   ]
  },
  {
   "cell_type": "code",
   "execution_count": 29,
   "id": "89203409-bf33-4246-a635-d469bf4f0fd0",
   "metadata": {},
   "outputs": [
    {
     "name": "stdout",
     "output_type": "stream",
     "text": [
      "This is my function\n"
     ]
    }
   ],
   "source": [
    "def my_func():\n",
    "    print(\"This is my function\")\n",
    "\n",
    "my_func() "
   ]
  },
  {
   "cell_type": "code",
   "execution_count": 33,
   "id": "cdaf6969-b233-4c3e-bc42-d29600abce99",
   "metadata": {},
   "outputs": [
    {
     "name": "stdout",
     "output_type": "stream",
     "text": [
      "Name is the time College\n"
     ]
    }
   ],
   "source": [
    "def my_func(xx,yy):\n",
    "    print(xx + \" is the time \" + yy)\n",
    "\n",
    "my_func(\"Name\",\"College\")"
   ]
  },
  {
   "cell_type": "code",
   "execution_count": 34,
   "id": "7b8b20d6-10f6-4d59-ba1b-672ff5258d97",
   "metadata": {},
   "outputs": [
    {
     "name": "stdout",
     "output_type": "stream",
     "text": [
      "The names are  Banana\n"
     ]
    }
   ],
   "source": [
    "def my_func1(*xx): \n",
    "    print(\"The names are \", xx[1]) \n",
    "my_func1(\"Apple\", \"Banana\", \"Orange\") "
   ]
  },
  {
   "cell_type": "code",
   "execution_count": 35,
   "id": "5fa8665b-35d4-411b-b5e0-40b6a416f76b",
   "metadata": {},
   "outputs": [
    {
     "name": "stdout",
     "output_type": "stream",
     "text": [
      "I am from Sweden\n",
      "I am from India\n",
      "I am from Norway\n",
      "I am from Brazil\n"
     ]
    }
   ],
   "source": [
    "def my_function(country = \"Norway\"):\n",
    "  print(\"I am from \" + country)\n",
    "\n",
    "my_function(\"Sweden\")\n",
    "my_function(\"India\")\n",
    "my_function()\n",
    "my_function(\"Brazil\")"
   ]
  },
  {
   "cell_type": "code",
   "execution_count": 36,
   "id": "dea86ac4-0c71-4ec5-a4d3-52d4f8e3f0fe",
   "metadata": {},
   "outputs": [
    {
     "name": "stdout",
     "output_type": "stream",
     "text": [
      "6\n"
     ]
    }
   ],
   "source": [
    "def func1(x):\n",
    "    return x*x + 2\n",
    "print(func1(2)) "
   ]
  },
  {
   "cell_type": "markdown",
   "id": "41683452-3ce3-4be4-8668-b62a40a03b6a",
   "metadata": {},
   "source": [
    "--- \n",
    "## Program 1\n",
    "Factorial of a number"
   ]
  },
  {
   "cell_type": "code",
   "execution_count": 33,
   "id": "9f84af61-eb43-4f19-990d-a2b31e665865",
   "metadata": {},
   "outputs": [
    {
     "name": "stdout",
     "output_type": "stream",
     "text": [
      "The factorial of 7 is 5040\n"
     ]
    }
   ],
   "source": [
    "# Python program to find the factorial of a number provided by the user.\n",
    "\n",
    "# change the value for a different result\n",
    "num = 7\n",
    "\n",
    "# To take input from the user\n",
    "#num = int(input(\"Enter a number: \"))\n",
    "\n",
    "factorial = 1\n",
    "\n",
    "# check if the number is negative, positive or zero\n",
    "if num < 0:\n",
    "   print(\"Sorry, factorial does not exist for negative numbers\")\n",
    "elif num == 0:\n",
    "   print(\"The factorial of 0 is 1\")\n",
    "else:\n",
    "   for i in range(1,num + 1):\n",
    "       factorial = factorial*i\n",
    "   print(\"The factorial of\",num,\"is\",factorial)"
   ]
  },
  {
   "cell_type": "markdown",
   "id": "00dcc2ba-24dc-4a9c-92f9-421fe11e677f",
   "metadata": {},
   "source": [
    "---\n",
    "## Plot "
   ]
  },
  {
   "cell_type": "code",
   "execution_count": 15,
   "id": "06014981-3bd4-4ff4-a598-cb2d1d643b2c",
   "metadata": {},
   "outputs": [
    {
     "data": {
      "image/png": "[encoded data removed]",
      "text/plain": [
       "<Figure size 432x288 with 1 Axes>"
      ]
     },
     "metadata": {
      "needs_background": "light"
     },
     "output_type": "display_data"
    }
   ],
   "source": [
    "import matplotlib.pyplot as plt \n",
    "import numpy as np \n",
    "\n",
    "xpoints=np.arange(0,10,1)\n",
    "ypoints=xpoints*2\n",
    "\n",
    "#print(xpoints,ypoints)\n",
    "plt.plot(xpoints,ypoints,marker=\".\",ms=20)\n",
    "plt.show() \n"
   ]
  },
  {
   "cell_type": "code",
   "execution_count": 50,
   "id": "731072e1-d1ba-4b43-b5de-1d771396b237",
   "metadata": {},
   "outputs": [
    {
     "data": {
      "image/png": "[encoded data removed]",
      "text/plain": [
       "<Figure size 432x288 with 1 Axes>"
      ]
     },
     "metadata": {
      "needs_background": "light"
     },
     "output_type": "display_data"
    }
   ],
   "source": [
    "import matplotlib.pyplot as plt \n",
    "import numpy as np \n",
    "  \n",
    "# setting the x - coordinates \n",
    "x = np.arange(0, 2*(np.pi), 0.1) \n",
    "# setting the corresponding y - coordinates \n",
    "y = np.sin(x) \n",
    "  \n",
    "# plotting the points \n",
    "plt.plot(x, y,'r*') \n",
    "  \n",
    "# function to show the plot \n",
    "plt.show() \n"
   ]
  },
  {
   "cell_type": "code",
   "execution_count": 54,
   "id": "fbdc3994-5e7c-4003-a079-ce7950549cbc",
   "metadata": {},
   "outputs": [
    {
     "data": {
      "image/png": "[encoded data removed]",
      "text/plain": [
       "<Figure size 432x288 with 1 Axes>"
      ]
     },
     "metadata": {
      "needs_background": "light"
     },
     "output_type": "display_data"
    }
   ],
   "source": [
    "import matplotlib.pyplot as plt \n",
    "\n",
    "def ff(x):\n",
    "    test1 = x**2 + x + 1\n",
    "    return test1\n",
    "\n",
    "def ff1(x):\n",
    "    test1 = 2*x  \n",
    "    return test1\n",
    "\n",
    "\n",
    "y = np.linspace(-5,5,10)\n",
    "yy = ff(y) \n",
    "yy1=ff1(y) \n",
    "#print(y,yy) \n",
    "plt.plot(y,yy) \n",
    "plt.plot(y,yy1,\"r*\") \n",
    "\n",
    "plt.xlabel('X axis', fontsize = 10)\n",
    "plt.ylabel('Y axis', fontsize = 10)\n",
    "plt.title(\"Test plot\") \n",
    "plt.show() \n"
   ]
  },
  {
   "cell_type": "markdown",
   "id": "6bad594e-daa9-488a-b6e0-aec7b1770605",
   "metadata": {},
   "source": [
    "---\n",
    "## Random Number "
   ]
  },
  {
   "cell_type": "code",
   "execution_count": 17,
   "id": "7dc8814b-a9c0-457b-b476-ed7c0091d602",
   "metadata": {},
   "outputs": [
    {
     "name": "stdout",
     "output_type": "stream",
     "text": [
      "0.0885734955328209\n"
     ]
    }
   ],
   "source": [
    "import random\n",
    "n = random.random()\n",
    "print(n) "
   ]
  },
  {
   "cell_type": "code",
   "execution_count": 5,
   "id": "d6dd1f01-d023-47d1-a408-8e33594891d6",
   "metadata": {},
   "outputs": [
    {
     "name": "stdout",
     "output_type": "stream",
     "text": [
      "2\n",
      "[2, 0, 6, 4, 3]\n"
     ]
    }
   ],
   "source": [
    "import random \n",
    "n = random.randint(1,10)\n",
    "print(n) \n",
    "print(random.sample(range(0,10),5))  "
   ]
  },
  {
   "cell_type": "code",
   "execution_count": 18,
   "id": "473857d8-6764-40c6-a8f1-9961d6d94d71",
   "metadata": {},
   "outputs": [
    {
     "data": {
      "image/png": "[encoded data removed]",
      "text/plain": [
       "<Figure size 432x288 with 1 Axes>"
      ]
     },
     "metadata": {
      "needs_background": "light"
     },
     "output_type": "display_data"
    }
   ],
   "source": [
    "import random \n",
    "import matplotlib.pyplot as plt \n",
    "\n",
    "no_of_points = 500 \n",
    "x = [random.randint(1,100) for n in range(no_of_points)]\n",
    "y = [random.randint(1,100) for n in range(no_of_points)]\n",
    "#print(x,y)\n",
    "plt.scatter(x,y)\n",
    "plt.show() "
   ]
  },
  {
   "cell_type": "code",
   "execution_count": null,
   "id": "9d80c536-325a-42c8-ab13-25edd77ba576",
   "metadata": {},
   "outputs": [],
   "source": []
  },
  {
   "cell_type": "code",
   "execution_count": null,
   "id": "0906fb11-1428-4df9-a9e2-c9867cb76231",
   "metadata": {},
   "outputs": [],
   "source": []
  },
  {
   "cell_type": "code",
   "execution_count": null,
   "id": "c179f37e-5707-451d-b240-efa987668640",
   "metadata": {},
   "outputs": [],
   "source": []
  }
 ],
 "metadata": {
  "kernelspec": {
   "display_name": "Python 3 (ipykernel)",
   "language": "python",
   "name": "python3"
  },
  "language_info": {
   "codemirror_mode": {
    "name": "ipython",
    "version": 3
   },
   "file_extension": ".py",
   "mimetype": "text/x-python",
   "name": "python",
   "nbconvert_exporter": "python",
   "pygments_lexer": "ipython3",
   "version": "3.10.12"
  }
 },
 "nbformat": 4,
 "nbformat_minor": 5
}
