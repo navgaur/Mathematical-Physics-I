{
 "cells": [
  {
   "cell_type": "markdown",
   "id": "a1a7f80b-fd4b-4e96-93cb-3674f44a0760",
   "metadata": {},
   "source": [
    "# **Basic concepts in Python**\n",
    "\n",
    "Why Python :\n",
    "- Excellent data structure \n",
    "- Simple and clean syntax\n",
    "- Possiblity of Object oriented programs\n",
    "- Open source\n",
    "- Interpreter language "
   ]
  },
  {
   "cell_type": "markdown",
   "id": "44d18fb8-ed8b-4412-8c3f-3b9b1c801611",
   "metadata": {},
   "source": [
    "## Variables, Operators\n",
    "\n",
    "Variables \n",
    "- Integer \n",
    "- Float\n",
    "- Complex \n",
    "\n",
    "Mathematical Operators \n",
    "- Addition (+)\n",
    "- Substraction (-)\n",
    "- Multiplication (*) \n",
    "- Division (/) \n",
    "- Modulo (%) \n",
    "- Power (**) \n",
    "- Floor Division (//) \n",
    "\n",
    "Comparison Operators:\n",
    "- Equal to (==) \n",
    "- Not Equal to (!=)\n",
    "- Less than and Greater than (<>)\n",
    "- Less than equal to (<=)\n",
    "- Greater than equal to (>=)\n",
    "\n",
    "Membership Operators:\n",
    "- in \n",
    "- not \n",
    "- as "
   ]
  },
  {
   "cell_type": "code",
   "execution_count": 1,
   "id": "b85b10a1-f49e-4770-9fa0-04d599569a37",
   "metadata": {},
   "outputs": [
    {
     "name": "stdout",
     "output_type": "stream",
     "text": [
      "Hello Welcome\n"
     ]
    }
   ],
   "source": [
    "print(\"Hello Welcome\")"
   ]
  },
  {
   "cell_type": "code",
   "execution_count": 2,
   "id": "7245d20c-ba2d-4f30-b09f-9345163e634c",
   "metadata": {},
   "outputs": [
    {
     "data": {
      "text/plain": [
       "'Hello'"
      ]
     },
     "execution_count": 2,
     "metadata": {},
     "output_type": "execute_result"
    }
   ],
   "source": [
    "'Hello'"
   ]
  },
  {
   "cell_type": "code",
   "execution_count": 5,
   "id": "8f8e1210-6c24-412a-9d8b-a573640a23b8",
   "metadata": {},
   "outputs": [
    {
     "data": {
      "text/plain": [
       "\"Hello it's working\""
      ]
     },
     "execution_count": 5,
     "metadata": {},
     "output_type": "execute_result"
    }
   ],
   "source": [
    "\"\"\"Hello it\\'s working\"\"\""
   ]
  },
  {
   "cell_type": "code",
   "execution_count": 10,
   "id": "d5e06e42-72d9-4355-871b-7e23de4760d9",
   "metadata": {},
   "outputs": [
    {
     "name": "stdout",
     "output_type": "stream",
     "text": [
      "I want to learn Python.\n",
      "Is this going to work\n",
      "on multiple lines.\n"
     ]
    }
   ],
   "source": [
    "print(\"\"\"I want to learn Python.\n",
    "Is this going to work\n",
    "on multiple lines.\"\"\") "
   ]
  },
  {
   "cell_type": "code",
   "execution_count": 11,
   "id": "9d0c2180-84d7-4f4f-ab75-24e587720ffa",
   "metadata": {},
   "outputs": [
    {
     "data": {
      "text/plain": [
       "'I want to learn Python.\\nIs this going to work\\non multiple lines.'"
      ]
     },
     "execution_count": 11,
     "metadata": {},
     "output_type": "execute_result"
    }
   ],
   "source": [
    "\"\"\"I want to learn Python.\n",
    "Is this going to work\n",
    "on multiple lines.\"\"\""
   ]
  },
  {
   "cell_type": "code",
   "execution_count": 13,
   "id": "6441eb27-c66b-4984-a040-db14e7dde22f",
   "metadata": {},
   "outputs": [
    {
     "name": "stdout",
     "output_type": "stream",
     "text": [
      "\t I am starting with Python. \n",
      " This should be next line\n"
     ]
    }
   ],
   "source": [
    "print(\"\"\"\\t I am starting with Python. \\n This should be next line\"\"\")"
   ]
  },
  {
   "cell_type": "markdown",
   "id": "69423f3d-1d01-4d61-8372-3c33d2b5c81f",
   "metadata": {},
   "source": [
    "# Namespace (variables)"
   ]
  },
  {
   "cell_type": "code",
   "execution_count": 14,
   "id": "ba06d279-a3ad-4869-a02a-a4ab95ed41df",
   "metadata": {},
   "outputs": [],
   "source": [
    "x = 2\n",
    "y = 4"
   ]
  },
  {
   "cell_type": "code",
   "execution_count": 4,
   "id": "fb32e43e-b7b6-4dba-83c6-8b3697d28237",
   "metadata": {},
   "outputs": [
    {
     "name": "stdout",
     "output_type": "stream",
     "text": [
      "Name\n"
     ]
    }
   ],
   "source": [
    "y=\"Name\"\n",
    "print(y) "
   ]
  },
  {
   "cell_type": "code",
   "execution_count": 7,
   "id": "b72ce6c1-fe6b-4b30-816b-2641435529c3",
   "metadata": {},
   "outputs": [
    {
     "name": "stdout",
     "output_type": "stream",
     "text": [
      "My Name is\n"
     ]
    }
   ],
   "source": [
    "xx,yy,zz = \"My\", \"Name\", \"is\"\n",
    "print(xx,yy,zz) "
   ]
  },
  {
   "cell_type": "code",
   "execution_count": 8,
   "id": "64db45b7-f7d2-43af-9806-fb5cd6915c47",
   "metadata": {},
   "outputs": [
    {
     "name": "stdout",
     "output_type": "stream",
     "text": [
      "apple banana grapes\n"
     ]
    }
   ],
   "source": [
    "fruits = [\"apple\",\"banana\",\"grapes\"] \n",
    "x,y,z=fruits \n",
    "print(x,y,z) "
   ]
  },
  {
   "cell_type": "markdown",
   "id": "7db0ffb3-11d3-4a87-ba8e-78f4ac22fe62",
   "metadata": {},
   "source": [
    "## Python as calculator"
   ]
  },
  {
   "cell_type": "code",
   "execution_count": 15,
   "id": "fc495979-c92b-45cb-a65b-ddf1fc3c4236",
   "metadata": {},
   "outputs": [
    {
     "data": {
      "text/plain": [
       "3.2"
      ]
     },
     "execution_count": 15,
     "metadata": {},
     "output_type": "execute_result"
    }
   ],
   "source": [
    "2+1.2"
   ]
  },
  {
   "cell_type": "code",
   "execution_count": 16,
   "id": "2e4135cb-8140-41c6-a307-9cf9fe5afb34",
   "metadata": {},
   "outputs": [
    {
     "data": {
      "text/plain": [
       "3.0"
      ]
     },
     "execution_count": 16,
     "metadata": {},
     "output_type": "execute_result"
    }
   ],
   "source": [
    "18.2//5"
   ]
  },
  {
   "cell_type": "code",
   "execution_count": 17,
   "id": "696dc714-159d-43a6-8ceb-e7fdb0fdebbf",
   "metadata": {},
   "outputs": [
    {
     "data": {
      "text/plain": [
       "3.1999999999999993"
      ]
     },
     "execution_count": 17,
     "metadata": {},
     "output_type": "execute_result"
    }
   ],
   "source": [
    "18.2%5"
   ]
  },
  {
   "cell_type": "markdown",
   "id": "466b958e-7efc-457c-aca4-77d0ae636f92",
   "metadata": {},
   "source": [
    "## Complex Numbers "
   ]
  },
  {
   "cell_type": "code",
   "execution_count": 19,
   "id": "8c166a5b-778b-455d-8418-95b111bd90a0",
   "metadata": {},
   "outputs": [],
   "source": [
    "z1 = 1 + 2j"
   ]
  },
  {
   "cell_type": "code",
   "execution_count": 20,
   "id": "55ac9cd9-831b-4898-a541-1a510260839a",
   "metadata": {},
   "outputs": [],
   "source": [
    "z2 = 2 + 3j"
   ]
  },
  {
   "cell_type": "code",
   "execution_count": 21,
   "id": "2091d2b0-b506-4df9-a022-36f9ad7e0470",
   "metadata": {},
   "outputs": [
    {
     "data": {
      "text/plain": [
       "(2+4j)"
      ]
     },
     "execution_count": 21,
     "metadata": {},
     "output_type": "execute_result"
    }
   ],
   "source": [
    "z1 + z1"
   ]
  },
  {
   "cell_type": "markdown",
   "id": "d3b31bc9-4848-4a5e-b36e-df3ac610b8ea",
   "metadata": {},
   "source": [
    "## Boolean Numbers"
   ]
  },
  {
   "cell_type": "code",
   "execution_count": 22,
   "id": "662562aa-6c69-4f23-ad21-69ae43d5759b",
   "metadata": {},
   "outputs": [
    {
     "data": {
      "text/plain": [
       "2"
      ]
     },
     "execution_count": 22,
     "metadata": {},
     "output_type": "execute_result"
    }
   ],
   "source": [
    "True + True"
   ]
  },
  {
   "cell_type": "code",
   "execution_count": 23,
   "id": "49d4ca46-afc5-4bf9-9662-c202e4af532e",
   "metadata": {},
   "outputs": [
    {
     "data": {
      "text/plain": [
       "1"
      ]
     },
     "execution_count": 23,
     "metadata": {},
     "output_type": "execute_result"
    }
   ],
   "source": [
    "True + False"
   ]
  },
  {
   "cell_type": "code",
   "execution_count": 24,
   "id": "b9169fa5-a822-4438-90da-b2abb976fc04",
   "metadata": {},
   "outputs": [
    {
     "data": {
      "text/plain": [
       "0"
      ]
     },
     "execution_count": 24,
     "metadata": {},
     "output_type": "execute_result"
    }
   ],
   "source": [
    "True * False"
   ]
  },
  {
   "cell_type": "markdown",
   "id": "39abf052-13fe-4428-b951-d0223c9c1534",
   "metadata": {},
   "source": [
    "## Comparison "
   ]
  },
  {
   "cell_type": "code",
   "execution_count": 25,
   "id": "d02b438c-8801-46ec-b881-6c876cb7f108",
   "metadata": {},
   "outputs": [
    {
     "data": {
      "text/plain": [
       "False"
      ]
     },
     "execution_count": 25,
     "metadata": {},
     "output_type": "execute_result"
    }
   ],
   "source": [
    "2 > 3"
   ]
  },
  {
   "cell_type": "code",
   "execution_count": 26,
   "id": "bc6088e2-0726-4b90-99ba-6b5069765413",
   "metadata": {},
   "outputs": [
    {
     "data": {
      "text/plain": [
       "False"
      ]
     },
     "execution_count": 26,
     "metadata": {},
     "output_type": "execute_result"
    }
   ],
   "source": [
    "6 == 8"
   ]
  },
  {
   "cell_type": "code",
   "execution_count": 27,
   "id": "71184ef6-2393-4901-b759-22957d3ba43d",
   "metadata": {},
   "outputs": [
    {
     "data": {
      "text/plain": [
       "True"
      ]
     },
     "execution_count": 27,
     "metadata": {},
     "output_type": "execute_result"
    }
   ],
   "source": [
    "10%3 == 1"
   ]
  },
  {
   "cell_type": "markdown",
   "id": "3681a45c-547c-4c44-8baa-b1dfbd573a4b",
   "metadata": {},
   "source": [
    "## Types and Identiry of objects "
   ]
  },
  {
   "cell_type": "code",
   "execution_count": 28,
   "id": "752d09f9-49a3-4f59-8d03-bb3aaf1c16e5",
   "metadata": {},
   "outputs": [
    {
     "data": {
      "text/plain": [
       "int"
      ]
     },
     "execution_count": 28,
     "metadata": {},
     "output_type": "execute_result"
    }
   ],
   "source": [
    "type(5)"
   ]
  },
  {
   "cell_type": "code",
   "execution_count": 29,
   "id": "111d9740-58cf-498d-aa74-2aa26f7c352c",
   "metadata": {},
   "outputs": [
    {
     "data": {
      "text/plain": [
       "float"
      ]
     },
     "execution_count": 29,
     "metadata": {},
     "output_type": "execute_result"
    }
   ],
   "source": [
    "type(1.2) "
   ]
  },
  {
   "cell_type": "code",
   "execution_count": 30,
   "id": "9db5da9f-5b19-4daa-a2f8-93664396a51b",
   "metadata": {},
   "outputs": [
    {
     "data": {
      "text/plain": [
       "complex"
      ]
     },
     "execution_count": 30,
     "metadata": {},
     "output_type": "execute_result"
    }
   ],
   "source": [
    "type(1+2j) "
   ]
  },
  {
   "cell_type": "code",
   "execution_count": 33,
   "id": "b2d52e0f-4e82-434b-9974-31645114ecab",
   "metadata": {},
   "outputs": [
    {
     "data": {
      "text/plain": [
       "str"
      ]
     },
     "execution_count": 33,
     "metadata": {},
     "output_type": "execute_result"
    }
   ],
   "source": [
    "type (\"Something\") "
   ]
  },
  {
   "cell_type": "code",
   "execution_count": 34,
   "id": "c0538d1b-374d-499e-bca7-a6a97e8bf818",
   "metadata": {},
   "outputs": [
    {
     "data": {
      "text/plain": [
       "bool"
      ]
     },
     "execution_count": 34,
     "metadata": {},
     "output_type": "execute_result"
    }
   ],
   "source": [
    "type(True) "
   ]
  },
  {
   "cell_type": "markdown",
   "id": "858b4826-87a4-46d1-bc81-cfe2fa42e3d8",
   "metadata": {},
   "source": [
    "## Indentation "
   ]
  },
  {
   "cell_type": "code",
   "execution_count": 3,
   "id": "39201005-0ef3-4357-8662-048439297a64",
   "metadata": {},
   "outputs": [
    {
     "name": "stdout",
     "output_type": "stream",
     "text": [
      "5 is greater than 2\n"
     ]
    }
   ],
   "source": [
    "if 5>2:\n",
    "    print(\"5 is greater than 2\") "
   ]
  },
  {
   "cell_type": "markdown",
   "id": "d1a14f16-aec1-4c56-ac3d-e301b072ca47",
   "metadata": {},
   "source": [
    "## Casting"
   ]
  },
  {
   "cell_type": "code",
   "execution_count": 6,
   "id": "1bf6c2d9-d657-4cf6-87a8-e2d3d9ff9758",
   "metadata": {},
   "outputs": [
    {
     "name": "stdout",
     "output_type": "stream",
     "text": [
      "3 3 3.0\n",
      "<class 'str'> <class 'int'> <class 'float'>\n"
     ]
    }
   ],
   "source": [
    "x = str(3)\n",
    "y = int(3)\n",
    "z = float(3)\n",
    "print(x,y,z) \n",
    "print(type(x),type(y),type(z)) "
   ]
  },
  {
   "cell_type": "code",
   "execution_count": null,
   "id": "83810ff3-b92b-45f6-b02c-25c6fba86878",
   "metadata": {},
   "outputs": [],
   "source": []
  }
 ],
 "metadata": {
  "kernelspec": {
   "display_name": "Python 3 (ipykernel)",
   "language": "python",
   "name": "python3"
  },
  "language_info": {
   "codemirror_mode": {
    "name": "ipython",
    "version": 3
   },
   "file_extension": ".py",
   "mimetype": "text/x-python",
   "name": "python",
   "nbconvert_exporter": "python",
   "pygments_lexer": "ipython3",
   "version": "3.10.12"
  }
 },
 "nbformat": 4,
 "nbformat_minor": 5
}
