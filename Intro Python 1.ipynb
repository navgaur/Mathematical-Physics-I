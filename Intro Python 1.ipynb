{
 "cells": [
  {
   "cell_type": "markdown",
   "id": "a1a7f80b-fd4b-4e96-93cb-3674f44a0760",
   "metadata": {},
   "source": [
    "# **Basic concepts in Python**\n",
    "\n",
    "Why Python :\n",
    "- Excellent data structure \n",
    "- Simple and clean syntax\n",
    "- Possiblity of Object oriented programs\n",
    "- Open source\n",
    "- Interpreter language "
   ]
  },
  {
   "cell_type": "markdown",
   "id": "44d18fb8-ed8b-4412-8c3f-3b9b1c801611",
   "metadata": {
    "jp-MarkdownHeadingCollapsed": true,
    "tags": []
   },
   "source": [
    "## Variables, Operators\n",
    "\n",
    "Variables \n",
    "- Integer \n",
    "- Float\n",
    "- Complex \n",
    "\n",
    "Mathematical Operators \n",
    "- Addition (+)\n",
    "- Substraction (-)\n",
    "- Multiplication (*) \n",
    "- Division (/) \n",
    "- Modulo (%) \n",
    "- Power (**) \n",
    "- Floor Division (//) \n",
    "\n",
    "Comparison Operators:\n",
    "- Equal to (==) \n",
    "- Not Equal to (!=)\n",
    "- Less than and Greater than (<>)\n",
    "- Less than equal to (<=)\n",
    "- Greater than equal to (>=)\n",
    "\n",
    "Membership Operators:\n",
    "- in \n",
    "- not \n",
    "- as "
   ]
  },
  {
   "cell_type": "code",
   "execution_count": 1,
   "id": "b85b10a1-f49e-4770-9fa0-04d599569a37",
   "metadata": {},
   "outputs": [
    {
     "name": "stdout",
     "output_type": "stream",
     "text": [
      "Hello Welcome\n"
     ]
    }
   ],
   "source": [
    "print(\"Hello Welcome\")"
   ]
  },
  {
   "cell_type": "code",
   "execution_count": 2,
   "id": "7245d20c-ba2d-4f30-b09f-9345163e634c",
   "metadata": {},
   "outputs": [
    {
     "data": {
      "text/plain": [
       "'Hello'"
      ]
     },
     "execution_count": 2,
     "metadata": {},
     "output_type": "execute_result"
    }
   ],
   "source": [
    "'Hello'"
   ]
  },
  {
   "cell_type": "code",
   "execution_count": 5,
   "id": "8f8e1210-6c24-412a-9d8b-a573640a23b8",
   "metadata": {},
   "outputs": [
    {
     "data": {
      "text/plain": [
       "\"Hello it's working\""
      ]
     },
     "execution_count": 5,
     "metadata": {},
     "output_type": "execute_result"
    }
   ],
   "source": [
    "\"\"\"Hello it\\'s working\"\"\""
   ]
  },
  {
   "cell_type": "code",
   "execution_count": 10,
   "id": "d5e06e42-72d9-4355-871b-7e23de4760d9",
   "metadata": {},
   "outputs": [
    {
     "name": "stdout",
     "output_type": "stream",
     "text": [
      "I want to learn Python.\n",
      "Is this going to work\n",
      "on multiple lines.\n"
     ]
    }
   ],
   "source": [
    "print(\"\"\"I want to learn Python.\n",
    "Is this going to work\n",
    "on multiple lines.\"\"\") "
   ]
  },
  {
   "cell_type": "code",
   "execution_count": 11,
   "id": "9d0c2180-84d7-4f4f-ab75-24e587720ffa",
   "metadata": {},
   "outputs": [
    {
     "data": {
      "text/plain": [
       "'I want to learn Python.\\nIs this going to work\\non multiple lines.'"
      ]
     },
     "execution_count": 11,
     "metadata": {},
     "output_type": "execute_result"
    }
   ],
   "source": [
    "\"\"\"I want to learn Python.\n",
    "Is this going to work\n",
    "on multiple lines.\"\"\""
   ]
  },
  {
   "cell_type": "code",
   "execution_count": 13,
   "id": "6441eb27-c66b-4984-a040-db14e7dde22f",
   "metadata": {},
   "outputs": [
    {
     "name": "stdout",
     "output_type": "stream",
     "text": [
      "\t I am starting with Python. \n",
      " This should be next line\n"
     ]
    }
   ],
   "source": [
    "print(\"\"\"\\t I am starting with Python. \\n This should be next line\"\"\")"
   ]
  },
  {
   "cell_type": "markdown",
   "id": "69423f3d-1d01-4d61-8372-3c33d2b5c81f",
   "metadata": {
    "jp-MarkdownHeadingCollapsed": true,
    "tags": []
   },
   "source": [
    "## Namespace (variables)"
   ]
  },
  {
   "cell_type": "code",
   "execution_count": 14,
   "id": "ba06d279-a3ad-4869-a02a-a4ab95ed41df",
   "metadata": {},
   "outputs": [],
   "source": [
    "x = 2\n",
    "y = 4"
   ]
  },
  {
   "cell_type": "code",
   "execution_count": 4,
   "id": "fb32e43e-b7b6-4dba-83c6-8b3697d28237",
   "metadata": {},
   "outputs": [
    {
     "name": "stdout",
     "output_type": "stream",
     "text": [
      "Name\n"
     ]
    }
   ],
   "source": [
    "y=\"Name\"\n",
    "print(y) "
   ]
  },
  {
   "cell_type": "code",
   "execution_count": 7,
   "id": "b72ce6c1-fe6b-4b30-816b-2641435529c3",
   "metadata": {},
   "outputs": [
    {
     "name": "stdout",
     "output_type": "stream",
     "text": [
      "My Name is\n"
     ]
    }
   ],
   "source": [
    "xx,yy,zz = \"My\", \"Name\", \"is\"\n",
    "print(xx,yy,zz) "
   ]
  },
  {
   "cell_type": "code",
   "execution_count": 8,
   "id": "64db45b7-f7d2-43af-9806-fb5cd6915c47",
   "metadata": {},
   "outputs": [
    {
     "name": "stdout",
     "output_type": "stream",
     "text": [
      "apple banana grapes\n"
     ]
    }
   ],
   "source": [
    "fruits = [\"apple\",\"banana\",\"grapes\"] \n",
    "x,y,z=fruits \n",
    "print(x,y,z) "
   ]
  },
  {
   "cell_type": "markdown",
   "id": "7db0ffb3-11d3-4a87-ba8e-78f4ac22fe62",
   "metadata": {
    "jp-MarkdownHeadingCollapsed": true,
    "tags": []
   },
   "source": [
    "## Python as calculator"
   ]
  },
  {
   "cell_type": "code",
   "execution_count": 15,
   "id": "fc495979-c92b-45cb-a65b-ddf1fc3c4236",
   "metadata": {},
   "outputs": [
    {
     "data": {
      "text/plain": [
       "3.2"
      ]
     },
     "execution_count": 15,
     "metadata": {},
     "output_type": "execute_result"
    }
   ],
   "source": [
    "2+1.2"
   ]
  },
  {
   "cell_type": "code",
   "execution_count": 16,
   "id": "2e4135cb-8140-41c6-a307-9cf9fe5afb34",
   "metadata": {},
   "outputs": [
    {
     "data": {
      "text/plain": [
       "3.0"
      ]
     },
     "execution_count": 16,
     "metadata": {},
     "output_type": "execute_result"
    }
   ],
   "source": [
    "18.2//5"
   ]
  },
  {
   "cell_type": "code",
   "execution_count": 17,
   "id": "696dc714-159d-43a6-8ceb-e7fdb0fdebbf",
   "metadata": {},
   "outputs": [
    {
     "data": {
      "text/plain": [
       "3.1999999999999993"
      ]
     },
     "execution_count": 17,
     "metadata": {},
     "output_type": "execute_result"
    }
   ],
   "source": [
    "18.2%5"
   ]
  },
  {
   "cell_type": "markdown",
   "id": "466b958e-7efc-457c-aca4-77d0ae636f92",
   "metadata": {
    "jp-MarkdownHeadingCollapsed": true,
    "tags": []
   },
   "source": [
    "## Complex Numbers "
   ]
  },
  {
   "cell_type": "code",
   "execution_count": 19,
   "id": "8c166a5b-778b-455d-8418-95b111bd90a0",
   "metadata": {},
   "outputs": [],
   "source": [
    "z1 = 1 + 2j"
   ]
  },
  {
   "cell_type": "code",
   "execution_count": 20,
   "id": "55ac9cd9-831b-4898-a541-1a510260839a",
   "metadata": {},
   "outputs": [],
   "source": [
    "z2 = 2 + 3j"
   ]
  },
  {
   "cell_type": "code",
   "execution_count": 21,
   "id": "2091d2b0-b506-4df9-a022-36f9ad7e0470",
   "metadata": {},
   "outputs": [
    {
     "data": {
      "text/plain": [
       "(2+4j)"
      ]
     },
     "execution_count": 21,
     "metadata": {},
     "output_type": "execute_result"
    }
   ],
   "source": [
    "z1 + z1"
   ]
  },
  {
   "cell_type": "markdown",
   "id": "d3b31bc9-4848-4a5e-b36e-df3ac610b8ea",
   "metadata": {
    "jp-MarkdownHeadingCollapsed": true,
    "tags": []
   },
   "source": [
    "## Boolean Numbers"
   ]
  },
  {
   "cell_type": "code",
   "execution_count": 22,
   "id": "662562aa-6c69-4f23-ad21-69ae43d5759b",
   "metadata": {},
   "outputs": [
    {
     "data": {
      "text/plain": [
       "2"
      ]
     },
     "execution_count": 22,
     "metadata": {},
     "output_type": "execute_result"
    }
   ],
   "source": [
    "True + True"
   ]
  },
  {
   "cell_type": "code",
   "execution_count": 23,
   "id": "49d4ca46-afc5-4bf9-9662-c202e4af532e",
   "metadata": {},
   "outputs": [
    {
     "data": {
      "text/plain": [
       "1"
      ]
     },
     "execution_count": 23,
     "metadata": {},
     "output_type": "execute_result"
    }
   ],
   "source": [
    "True + False"
   ]
  },
  {
   "cell_type": "code",
   "execution_count": 24,
   "id": "b9169fa5-a822-4438-90da-b2abb976fc04",
   "metadata": {},
   "outputs": [
    {
     "data": {
      "text/plain": [
       "0"
      ]
     },
     "execution_count": 24,
     "metadata": {},
     "output_type": "execute_result"
    }
   ],
   "source": [
    "True * False"
   ]
  },
  {
   "cell_type": "markdown",
   "id": "39abf052-13fe-4428-b951-d0223c9c1534",
   "metadata": {
    "jp-MarkdownHeadingCollapsed": true,
    "tags": []
   },
   "source": [
    "## Comparison "
   ]
  },
  {
   "cell_type": "code",
   "execution_count": 25,
   "id": "d02b438c-8801-46ec-b881-6c876cb7f108",
   "metadata": {},
   "outputs": [
    {
     "data": {
      "text/plain": [
       "False"
      ]
     },
     "execution_count": 25,
     "metadata": {},
     "output_type": "execute_result"
    }
   ],
   "source": [
    "2 > 3"
   ]
  },
  {
   "cell_type": "code",
   "execution_count": 26,
   "id": "bc6088e2-0726-4b90-99ba-6b5069765413",
   "metadata": {},
   "outputs": [
    {
     "data": {
      "text/plain": [
       "False"
      ]
     },
     "execution_count": 26,
     "metadata": {},
     "output_type": "execute_result"
    }
   ],
   "source": [
    "6 == 8"
   ]
  },
  {
   "cell_type": "code",
   "execution_count": 27,
   "id": "71184ef6-2393-4901-b759-22957d3ba43d",
   "metadata": {},
   "outputs": [
    {
     "data": {
      "text/plain": [
       "True"
      ]
     },
     "execution_count": 27,
     "metadata": {},
     "output_type": "execute_result"
    }
   ],
   "source": [
    "10%3 == 1"
   ]
  },
  {
   "cell_type": "markdown",
   "id": "3681a45c-547c-4c44-8baa-b1dfbd573a4b",
   "metadata": {
    "jp-MarkdownHeadingCollapsed": true,
    "tags": []
   },
   "source": [
    "## Types and Identiry of objects "
   ]
  },
  {
   "cell_type": "code",
   "execution_count": 28,
   "id": "752d09f9-49a3-4f59-8d03-bb3aaf1c16e5",
   "metadata": {},
   "outputs": [
    {
     "data": {
      "text/plain": [
       "int"
      ]
     },
     "execution_count": 28,
     "metadata": {},
     "output_type": "execute_result"
    }
   ],
   "source": [
    "type(5)"
   ]
  },
  {
   "cell_type": "code",
   "execution_count": 29,
   "id": "111d9740-58cf-498d-aa74-2aa26f7c352c",
   "metadata": {},
   "outputs": [
    {
     "data": {
      "text/plain": [
       "float"
      ]
     },
     "execution_count": 29,
     "metadata": {},
     "output_type": "execute_result"
    }
   ],
   "source": [
    "type(1.2) "
   ]
  },
  {
   "cell_type": "code",
   "execution_count": 30,
   "id": "9db5da9f-5b19-4daa-a2f8-93664396a51b",
   "metadata": {},
   "outputs": [
    {
     "data": {
      "text/plain": [
       "complex"
      ]
     },
     "execution_count": 30,
     "metadata": {},
     "output_type": "execute_result"
    }
   ],
   "source": [
    "type(1+2j) "
   ]
  },
  {
   "cell_type": "code",
   "execution_count": 33,
   "id": "b2d52e0f-4e82-434b-9974-31645114ecab",
   "metadata": {},
   "outputs": [
    {
     "data": {
      "text/plain": [
       "str"
      ]
     },
     "execution_count": 33,
     "metadata": {},
     "output_type": "execute_result"
    }
   ],
   "source": [
    "type (\"Something\") "
   ]
  },
  {
   "cell_type": "code",
   "execution_count": 34,
   "id": "c0538d1b-374d-499e-bca7-a6a97e8bf818",
   "metadata": {},
   "outputs": [
    {
     "data": {
      "text/plain": [
       "bool"
      ]
     },
     "execution_count": 34,
     "metadata": {},
     "output_type": "execute_result"
    }
   ],
   "source": [
    "type(True) "
   ]
  },
  {
   "cell_type": "markdown",
   "id": "858b4826-87a4-46d1-bc81-cfe2fa42e3d8",
   "metadata": {
    "jp-MarkdownHeadingCollapsed": true,
    "tags": []
   },
   "source": [
    "## Indentation "
   ]
  },
  {
   "cell_type": "code",
   "execution_count": 3,
   "id": "39201005-0ef3-4357-8662-048439297a64",
   "metadata": {},
   "outputs": [
    {
     "name": "stdout",
     "output_type": "stream",
     "text": [
      "5 is greater than 2\n"
     ]
    }
   ],
   "source": [
    "if 5>2:\n",
    "    print(\"5 is greater than 2\") "
   ]
  },
  {
   "cell_type": "markdown",
   "id": "d1a14f16-aec1-4c56-ac3d-e301b072ca47",
   "metadata": {
    "tags": []
   },
   "source": [
    "## Casting"
   ]
  },
  {
   "cell_type": "code",
   "execution_count": 6,
   "id": "1bf6c2d9-d657-4cf6-87a8-e2d3d9ff9758",
   "metadata": {},
   "outputs": [
    {
     "name": "stdout",
     "output_type": "stream",
     "text": [
      "3 3 3.0\n",
      "<class 'str'> <class 'int'> <class 'float'>\n"
     ]
    }
   ],
   "source": [
    "x = str(3)\n",
    "y = int(3)\n",
    "z = float(3)\n",
    "print(x,y,z) \n",
    "print(type(x),type(y),type(z)) "
   ]
  },
  {
   "cell_type": "markdown",
   "id": "b2942e7e-76aa-4753-bb58-342901812334",
   "metadata": {},
   "source": [
    "---\n",
    "# **Control Structures** \n",
    "- if, if-else, if-elif-else \n",
    "- while \n",
    "- for "
   ]
  },
  {
   "cell_type": "code",
   "execution_count": 1,
   "id": "a92a56fb-e88e-437d-a16e-b3d40b091b39",
   "metadata": {},
   "outputs": [
    {
     "name": "stdout",
     "output_type": "stream",
     "text": [
      "apple banana grapes\n"
     ]
    }
   ],
   "source": [
    "fruits = [\"apple\",\"banana\",\"grapes\"] \n",
    "x,y,z=fruits \n",
    "print(x,y,z) "
   ]
  },
  {
   "cell_type": "code",
   "execution_count": 2,
   "id": "c5dc4ea8-026a-49c1-88ff-5ead1868d34b",
   "metadata": {},
   "outputs": [
    {
     "name": "stdout",
     "output_type": "stream",
     "text": [
      "b is greater than a\n"
     ]
    }
   ],
   "source": [
    "a = 33\n",
    "b = 200\n",
    "if b > a:\n",
    "  print(\"b is greater than a\")"
   ]
  },
  {
   "cell_type": "code",
   "execution_count": null,
   "id": "6f30c8ca-9f30-480b-a1eb-1d217b3248db",
   "metadata": {},
   "outputs": [],
   "source": [
    "a = 33\n",
    "b = 33\n",
    "if b > a:\n",
    "  print(\"b is greater than a\")\n",
    "elif a == b:\n",
    "  print(\"a and b are equal\")"
   ]
  },
  {
   "cell_type": "code",
   "execution_count": 3,
   "id": "4ccbbc85-d1ac-4885-a6a5-c27a08a757be",
   "metadata": {},
   "outputs": [
    {
     "name": "stdout",
     "output_type": "stream",
     "text": [
      "1\n",
      "2\n",
      "3\n",
      "4\n",
      "5\n"
     ]
    }
   ],
   "source": [
    "i = 1\n",
    "while i < 6:\n",
    "  print(i)\n",
    "  i += 1"
   ]
  },
  {
   "cell_type": "code",
   "execution_count": 4,
   "id": "d551e871-44c7-412e-8a8d-555b2eea76c7",
   "metadata": {},
   "outputs": [
    {
     "name": "stdout",
     "output_type": "stream",
     "text": [
      "apple\n",
      "banana\n",
      "cherry\n"
     ]
    }
   ],
   "source": [
    "fruits = [\"apple\", \"banana\", \"cherry\"]\n",
    "for x in fruits:\n",
    "  print(x)"
   ]
  },
  {
   "cell_type": "code",
   "execution_count": 7,
   "id": "fc8a3725-82ed-42d9-83e5-84241068e83f",
   "metadata": {},
   "outputs": [
    {
     "name": "stdout",
     "output_type": "stream",
     "text": [
      "apple\n"
     ]
    }
   ],
   "source": [
    "fruits = [\"apple\", \"banana\", \"cherry\"]\n",
    "for x in fruits:\n",
    "    if x == \"banana\":\n",
    "        break \n",
    "    print(x)"
   ]
  },
  {
   "cell_type": "markdown",
   "id": "6ef47445-eead-4b7c-a891-9acd8f00d01f",
   "metadata": {},
   "source": [
    "### Continue and Pass \n",
    "continue: forces the loop to start at the next iteration \n",
    "pass: means \"there is no code to execute here\" and \n",
    "      will continue through the remainder of the loop body."
   ]
  },
  {
   "cell_type": "code",
   "execution_count": 8,
   "id": "afa9421f-eda4-45af-a7d2-69bb4f400a56",
   "metadata": {},
   "outputs": [
    {
     "name": "stdout",
     "output_type": "stream",
     "text": [
      "apple\n",
      "cherry\n"
     ]
    }
   ],
   "source": [
    "fruits = [\"apple\", \"banana\", \"cherry\"]\n",
    "for x in fruits:\n",
    "    if x == \"banana\":\n",
    "        continue  \n",
    "    print(x)"
   ]
  },
  {
   "cell_type": "code",
   "execution_count": 9,
   "id": "024ebc21-f5c5-4789-a868-31723f309212",
   "metadata": {},
   "outputs": [
    {
     "name": "stdout",
     "output_type": "stream",
     "text": [
      "apple\n",
      "banana\n",
      "cherry\n"
     ]
    }
   ],
   "source": [
    "fruits = [\"apple\", \"banana\", \"cherry\"]\n",
    "for x in fruits:\n",
    "    if x == \"banana\":\n",
    "        pass \n",
    "    print(x)"
   ]
  },
  {
   "cell_type": "markdown",
   "id": "b949327e-ef2d-4c8f-a491-8c36de405219",
   "metadata": {
    "jp-MarkdownHeadingCollapsed": true,
    "tags": []
   },
   "source": [
    "--- \n",
    "## Lists \n",
    "\n",
    "- Used to store multiple variables in a single variable\n",
    "- Can be modified, added etc. \n",
    "- defined by square brackets"
   ]
  },
  {
   "cell_type": "code",
   "execution_count": 21,
   "id": "f82e1dd8-0e81-4b6c-9cac-443e9104cd13",
   "metadata": {},
   "outputs": [
    {
     "name": "stdout",
     "output_type": "stream",
     "text": [
      "['banana', 'apple', 'orange']\n",
      "3\n",
      "orange orange\n",
      "['banana', 'apple', 'orange', 'grapes', 'melon', 'papaya']\n",
      "['orange', 'grapes', 'melon']\n"
     ]
    }
   ],
   "source": [
    "fruits1 = [\"banana\",\"apple\",\"orange\"]\n",
    "fruits2 = [\"grapes\",\"melon\",\"papaya\"] \n",
    "print(fruits1) \n",
    "print(len(fruits1)) \n",
    "print(fruits1[2],fruits1[-1]) \n",
    "fruits_sum=fruits1+fruits2\n",
    "print(fruits_sum) \n",
    "print(fruits_sum[2:5]) "
   ]
  },
  {
   "cell_type": "code",
   "execution_count": 28,
   "id": "fd8a56c2-d232-41a4-a977-2d109ce88c8b",
   "metadata": {},
   "outputs": [
    {
     "name": "stdout",
     "output_type": "stream",
     "text": [
      "['banana', 'apple', 'orange', 'cherry']\n",
      "['banana', 'apple', 'cherry']\n",
      "['banana', 'cherry']\n"
     ]
    }
   ],
   "source": [
    "fruits1 = [\"banana\",\"apple\",\"orange\"]\n",
    "fruits1.append(\"cherry\") \n",
    "print(fruits1) \n",
    "fruits1.remove(\"orange\")\n",
    "print(fruits1) \n",
    "fruits1.pop(1) \n",
    "print(fruits1) "
   ]
  },
  {
   "cell_type": "code",
   "execution_count": 51,
   "id": "1031ef43-a23d-43df-8630-da22e1b4c0d3",
   "metadata": {},
   "outputs": [
    {
     "name": "stdout",
     "output_type": "stream",
     "text": [
      "banana\n",
      "apple\n",
      "orange\n",
      "grapes\n"
     ]
    }
   ],
   "source": [
    "fruits1 = [\"banana\",\"apple\",\"orange\"]\n",
    "fruits2 = [\"grapes\",\"melon\",\"papaya\"] \n",
    "fruits_sum1=fruits1+fruits2\n",
    "for x in fruits_sum1:\n",
    "    if x == \"melon\":\n",
    "        break \n",
    "    print(x) "
   ]
  },
  {
   "cell_type": "code",
   "execution_count": 52,
   "id": "fdbf3e88-3b93-4eba-9b74-5a371aa33af7",
   "metadata": {},
   "outputs": [
    {
     "name": "stdout",
     "output_type": "stream",
     "text": [
      "['banana', 'apple', 'orange']\n",
      "['banana', 'apple']\n"
     ]
    }
   ],
   "source": [
    "#fruits1.remove(\"apple\")\n",
    "#print(fruits1) \n",
    "print(fruits1) \n",
    "fruits1.pop(2)\n",
    "print(fruits1) "
   ]
  },
  {
   "cell_type": "markdown",
   "id": "4e35a5a7-9f41-470a-8350-3dbc865c4564",
   "metadata": {},
   "source": [
    "### Continue vs Pass \n",
    "\n",
    "**Continue** forces the loop to start at the next iteration \n",
    "\n",
    "**Pass** means \"there is no code to execute here\" and will continue through the remainder of the loop body."
   ]
  },
  {
   "cell_type": "code",
   "execution_count": 37,
   "id": "672a5511-b12f-49aa-93ba-7f008eec6779",
   "metadata": {},
   "outputs": [
    {
     "name": "stdout",
     "output_type": "stream",
     "text": [
      "banana\n",
      "apple\n",
      "orange\n",
      "grapes\n",
      "papaya\n"
     ]
    }
   ],
   "source": [
    "fruits1 = [\"banana\",\"apple\",\"orange\"]\n",
    "fruits2 = [\"grapes\",\"melon\",\"papaya\"] \n",
    "fruits_sum1=fruits1+fruits2\n",
    "for x in fruits_sum1:\n",
    "    if x == \"melon\":\n",
    "        continue \n",
    "    print(x) "
   ]
  },
  {
   "cell_type": "code",
   "execution_count": 38,
   "id": "40209b85-7da2-4f66-8112-0fb48ffd8324",
   "metadata": {},
   "outputs": [
    {
     "name": "stdout",
     "output_type": "stream",
     "text": [
      "banana\n",
      "apple\n",
      "orange\n",
      "grapes\n",
      "melon\n",
      "papaya\n"
     ]
    }
   ],
   "source": [
    "fruits1 = [\"banana\",\"apple\",\"orange\"]\n",
    "fruits2 = [\"grapes\",\"melon\",\"papaya\"] \n",
    "fruits_sum1=fruits1+fruits2\n",
    "for x in fruits_sum1:\n",
    "    if x == \"melon\":\n",
    "        pass \n",
    "    print(x) "
   ]
  },
  {
   "cell_type": "code",
   "execution_count": 31,
   "id": "a5e9acec-1786-433f-a83a-f44c018f5041",
   "metadata": {},
   "outputs": [
    {
     "name": "stdout",
     "output_type": "stream",
     "text": [
      "0\n",
      "1\n",
      "2\n",
      "3\n",
      "4\n",
      "5\n"
     ]
    }
   ],
   "source": [
    "fruits1 = [\"banana\",\"apple\",\"orange\"]\n",
    "fruits2 = [\"grapes\",\"melon\",\"papaya\"] \n",
    "fruits_sum1=fruits1+fruits2\n",
    "i = 0 \n",
    "while i < len(fruits_sum1):\n",
    "    print(i) \n",
    "    i = i+1 "
   ]
  },
  {
   "cell_type": "code",
   "execution_count": 32,
   "id": "23082e1d-71ba-4de0-a465-203d677f57df",
   "metadata": {},
   "outputs": [
    {
     "name": "stdout",
     "output_type": "stream",
     "text": [
      "['apple', 'banana', 'grapes', 'melon', 'orange', 'papaya']\n"
     ]
    }
   ],
   "source": [
    "fruits1 = [\"banana\",\"apple\",\"orange\"]\n",
    "fruits2 = [\"grapes\",\"melon\",\"papaya\"] \n",
    "fruits_sum1=fruits1+fruits2\n",
    "fruits_sum1.sort()\n",
    "print(fruits_sum1) "
   ]
  },
  {
   "cell_type": "code",
   "execution_count": 34,
   "id": "f4e6799a-c4da-46c7-b1e2-e4408a4a6918",
   "metadata": {},
   "outputs": [
    {
     "name": "stdout",
     "output_type": "stream",
     "text": [
      "2\n",
      "3\n",
      "4\n",
      "5\n"
     ]
    }
   ],
   "source": [
    "for x in range(2, 6):\n",
    "  print(x)"
   ]
  },
  {
   "cell_type": "code",
   "execution_count": 35,
   "id": "66762767-5b7d-4a25-aaa5-c330deb451e7",
   "metadata": {},
   "outputs": [
    {
     "name": "stdout",
     "output_type": "stream",
     "text": [
      "2\n",
      "5\n",
      "8\n",
      "11\n",
      "14\n",
      "17\n",
      "20\n",
      "23\n",
      "26\n",
      "29\n"
     ]
    }
   ],
   "source": [
    "for x in range(2, 30, 3):\n",
    "  print(x)"
   ]
  },
  {
   "cell_type": "markdown",
   "id": "44d27024-b5e6-453b-8124-ff3c2bf02f9e",
   "metadata": {},
   "source": [
    "--- \n",
    "## Tuples\n",
    "- Used to store multiple variables in a single variable \n",
    "- Are unchangable \n",
    "- defined with round brackets "
   ]
  },
  {
   "cell_type": "code",
   "execution_count": 58,
   "id": "333bfa7a-2d8f-42a8-b668-048caefec854",
   "metadata": {},
   "outputs": [
    {
     "name": "stdout",
     "output_type": "stream",
     "text": [
      "apple\n",
      "('banana', 'apple', 'grapes', 'melon', 'oranges', 'blueberry')\n",
      "('grapes', 'melon')\n",
      "('oranges', 'blueberry')\n"
     ]
    }
   ],
   "source": [
    "tup1 = (\"banana\",\"apple\",\"grapes\")\n",
    "print(tup1[1])\n",
    "tup2 = (\"melon\",\"oranges\",\"blueberry\")\n",
    "sum_tup=tup1+tup2\n",
    "print(sum_tup) \n",
    "print(sum_tup[2:4])\n",
    "print(sum_tup[-2:]) "
   ]
  },
  {
   "cell_type": "markdown",
   "id": "ae179977-696f-43d6-9c58-49f4acf72033",
   "metadata": {},
   "source": [
    "--- \n",
    "## Directory "
   ]
  },
  {
   "cell_type": "markdown",
   "id": "29ec0aed-0a3d-4b02-8369-12592e22c86b",
   "metadata": {},
   "source": [
    "--- \n",
    "## Program 1\n",
    "Factorial of a number"
   ]
  },
  {
   "cell_type": "code",
   "execution_count": 33,
   "id": "9f84af61-eb43-4f19-990d-a2b31e665865",
   "metadata": {},
   "outputs": [
    {
     "name": "stdout",
     "output_type": "stream",
     "text": [
      "The factorial of 7 is 5040\n"
     ]
    }
   ],
   "source": [
    "# Python program to find the factorial of a number provided by the user.\n",
    "\n",
    "# change the value for a different result\n",
    "num = 7\n",
    "\n",
    "# To take input from the user\n",
    "#num = int(input(\"Enter a number: \"))\n",
    "\n",
    "factorial = 1\n",
    "\n",
    "# check if the number is negative, positive or zero\n",
    "if num < 0:\n",
    "   print(\"Sorry, factorial does not exist for negative numbers\")\n",
    "elif num == 0:\n",
    "   print(\"The factorial of 0 is 1\")\n",
    "else:\n",
    "   for i in range(1,num + 1):\n",
    "       factorial = factorial*i\n",
    "   print(\"The factorial of\",num,\"is\",factorial)"
   ]
  },
  {
   "cell_type": "code",
   "execution_count": null,
   "id": "fc0a16a4-b348-419b-9df5-ec2dd93d1da6",
   "metadata": {},
   "outputs": [],
   "source": []
  }
 ],
 "metadata": {
  "kernelspec": {
   "display_name": "Python 3 (ipykernel)",
   "language": "python",
   "name": "python3"
  },
  "language_info": {
   "codemirror_mode": {
    "name": "ipython",
    "version": 3
   },
   "file_extension": ".py",
   "mimetype": "text/x-python",
   "name": "python",
   "nbconvert_exporter": "python",
   "pygments_lexer": "ipython3",
   "version": "3.10.12"
  }
 },
 "nbformat": 4,
 "nbformat_minor": 5
}
