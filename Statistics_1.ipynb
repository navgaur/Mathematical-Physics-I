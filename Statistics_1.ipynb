{
  "nbformat": 4,
  "nbformat_minor": 0,
  "metadata": {
    "colab": {
      "provenance": [],
      "authorship_tag": "ABX9TyOfQ2IMr6hi3bImG7s1hoi5",
      "include_colab_link": true
    },
    "kernelspec": {
      "name": "python3",
      "display_name": "Python 3"
    },
    "language_info": {
      "name": "python"
    }
  },
  "cells": [
    {
      "cell_type": "markdown",
      "metadata": {
        "id": "view-in-github",
        "colab_type": "text"
      },
      "source": [
        "<a href=\"https://colab.research.google.com/github/navgaur/Mathematical-Physics-I/blob/main/Statistics_1.ipynb\" target=\"_parent\"><img src=\"https://colab.research.google.com/assets/colab-badge.svg\" alt=\"Open In Colab\"/></a>"
      ]
    },
    {
      "cell_type": "markdown",
      "source": [
        "# Statistics"
      ],
      "metadata": {
        "id": "uHoWzTzDnGDa"
      }
    },
    {
      "cell_type": "code",
      "execution_count": 1,
      "metadata": {
        "id": "gspwa7Zymr_J"
      },
      "outputs": [],
      "source": [
        "import numpy as np\n",
        "import pandas as pd\n",
        "import matplotlib.pyplot as plt"
      ]
    },
    {
      "cell_type": "code",
      "source": [],
      "metadata": {
        "id": "n5tRCFUCouIv"
      },
      "execution_count": null,
      "outputs": []
    },
    {
      "cell_type": "markdown",
      "source": [
        "## **Function or uniform outcome**\n",
        "\n",
        "$n$ : number of outcomes in the sample space\n",
        "\n",
        "output: $m$ outcomes selected uniformly at random from 1 to n"
      ],
      "metadata": {
        "id": "u3VWO02kouvV"
      }
    },
    {
      "cell_type": "code",
      "source": [
        "def uniform(n,m):\n",
        "  return np.random.randint(1,n+1,size=m)"
      ],
      "metadata": {
        "id": "qZYmlyptobP5"
      },
      "execution_count": 2,
      "outputs": []
    },
    {
      "cell_type": "code",
      "source": [
        "print(uniform(3,10))"
      ],
      "metadata": {
        "colab": {
          "base_uri": "https://localhost:8080/"
        },
        "id": "G_rwzJlhojcC",
        "outputId": "2cba7b7b-efce-4bf6-bc77-ad04f3333d43"
      },
      "execution_count": null,
      "outputs": [
        {
          "output_type": "stream",
          "name": "stdout",
          "text": [
            "[2 1 2 3 1 3 2 3 2 1]\n"
          ]
        }
      ]
    },
    {
      "cell_type": "markdown",
      "source": [
        "Throw of dice."
      ],
      "metadata": {
        "id": "O9JhIJxW9tEC"
      }
    },
    {
      "cell_type": "code",
      "source": [
        "print(uniform(6,20))"
      ],
      "metadata": {
        "id": "dmetwUl49ngJ",
        "outputId": "39fc8d3f-4f5a-4fb0-f047-7870e8e82cfe",
        "colab": {
          "base_uri": "https://localhost:8080/"
        }
      },
      "execution_count": 3,
      "outputs": [
        {
          "output_type": "stream",
          "name": "stdout",
          "text": [
            "[2 3 4 4 2 2 6 1 4 4 5 6 3 6 3 2 3 6 1 1]\n"
          ]
        }
      ]
    },
    {
      "cell_type": "markdown",
      "source": [
        "## Estimating probability\n",
        "\n",
        "Probability of an event $A$ can be estimated as:\n",
        "$$ P(A) \\approx \\frac{N_A}{N}$$\n",
        "with $N_A$ be the number of times the event $A$ has occurred. $N$ be the total number of times the experiment has been conducted.\n",
        "\n",
        "**Example:** THrow of a dice. Ideally the probability of heads should be $0.5$.\n",
        "\n",
        "Simulating the same with random numbers"
      ],
      "metadata": {
        "id": "lL0fcnKf-MN6"
      }
    },
    {
      "cell_type": "code",
      "source": [
        "no_heads=0\n",
        "no_of_events=3000\n",
        "for i in range(no_of_events):\n",
        "  if uniform(2,1) == 1:\n",
        "    no_heads += 1\n",
        "print(no_heads/no_of_events)"
      ],
      "metadata": {
        "id": "fQ3Xa5vF-Lw3",
        "outputId": "c8ad5968-7ca2-4f75-d4a3-95f7a0a288b2",
        "colab": {
          "base_uri": "https://localhost:8080/"
        }
      },
      "execution_count": 6,
      "outputs": [
        {
          "output_type": "stream",
          "name": "stdout",
          "text": [
            "0.496\n"
          ]
        }
      ]
    },
    {
      "cell_type": "markdown",
      "source": [
        "Probability of a die having a particular number"
      ],
      "metadata": {
        "id": "Cxljq5fJBH5g"
      }
    },
    {
      "cell_type": "code",
      "source": [
        "no = 0\n",
        "no_of_events = 7000\n",
        "for i in range(no_of_events):\n",
        "  die = uniform(6,1)\n",
        "  if die == 3 or die == 4:\n",
        "    no += 1\n",
        "print(no/no_of_events)"
      ],
      "metadata": {
        "id": "vBRsO0tFBMEK",
        "outputId": "73baa375-6105-44a4-fc13-9c26948caf5a",
        "colab": {
          "base_uri": "https://localhost:8080/"
        }
      },
      "execution_count": 9,
      "outputs": [
        {
          "output_type": "stream",
          "name": "stdout",
          "text": [
            "0.33814285714285713\n"
          ]
        }
      ]
    },
    {
      "cell_type": "code",
      "source": [],
      "metadata": {
        "id": "A0UQyqpQ-Rt-"
      },
      "execution_count": null,
      "outputs": []
    }
  ]
}